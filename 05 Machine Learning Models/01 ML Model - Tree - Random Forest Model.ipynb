{
 "cells": [
  {
   "cell_type": "code",
   "execution_count": 90,
   "metadata": {},
   "outputs": [],
   "source": [
    "import numpy as np\n",
    "import pandas as pd\n",
    "\n",
    "import warnings\n",
    "warnings.simplefilter('ignore', FutureWarning)\n",
    "\n",
    "%matplotlib inline\n",
    "import matplotlib.pyplot as plt\n",
    "\n",
    "import pickle"
   ]
  },
  {
   "cell_type": "code",
   "execution_count": 91,
   "metadata": {},
   "outputs": [],
   "source": [
    "#https://www.thepythoncode.com/article/extracting-and-submitting-web-page-forms-in-python\n",
    "# # Seaborn visualization library\n",
    "# import seaborn as sns\n",
    "# # Create the default pairplot\n",
    "# sns.pairplot(df)"
   ]
  },
  {
   "cell_type": "markdown",
   "metadata": {},
   "source": [
    "# Pre-processing code from template - START\n",
    "Project3Git/04 Pre-processing Template/01 Pre-processing- X-Y split - Y One-Hot Encoding - Train-Test Split - Scaling X Training Data.ipynb"
   ]
  },
  {
   "cell_type": "code",
   "execution_count": 92,
   "metadata": {},
   "outputs": [
    {
     "data": {
      "text/html": [
       "<div>\n",
       "<style scoped>\n",
       "    .dataframe tbody tr th:only-of-type {\n",
       "        vertical-align: middle;\n",
       "    }\n",
       "\n",
       "    .dataframe tbody tr th {\n",
       "        vertical-align: top;\n",
       "    }\n",
       "\n",
       "    .dataframe thead th {\n",
       "        text-align: right;\n",
       "    }\n",
       "</style>\n",
       "<table border=\"1\" class=\"dataframe\">\n",
       "  <thead>\n",
       "    <tr style=\"text-align: right;\">\n",
       "      <th></th>\n",
       "      <th>CLIENTNUM</th>\n",
       "      <th>Attrition_Flag</th>\n",
       "      <th>Customer_Age</th>\n",
       "      <th>Gender</th>\n",
       "      <th>Dependent_count</th>\n",
       "      <th>Education_Level</th>\n",
       "      <th>Marital_Status</th>\n",
       "      <th>Income_Category</th>\n",
       "      <th>Card_Category</th>\n",
       "      <th>Months_on_book</th>\n",
       "      <th>...</th>\n",
       "      <th>Months_Inactive_12_mon</th>\n",
       "      <th>Contacts_Count_12_mon</th>\n",
       "      <th>Credit_Limit</th>\n",
       "      <th>Total_Revolving_Bal</th>\n",
       "      <th>Avg_Open_To_Buy</th>\n",
       "      <th>Total_Amt_Chng_Q4_Q1</th>\n",
       "      <th>Total_Trans_Amt</th>\n",
       "      <th>Total_Trans_Ct</th>\n",
       "      <th>Total_Ct_Chng_Q4_Q1</th>\n",
       "      <th>Avg_Utilization_Ratio</th>\n",
       "    </tr>\n",
       "  </thead>\n",
       "  <tbody>\n",
       "    <tr>\n",
       "      <th>0</th>\n",
       "      <td>768805383</td>\n",
       "      <td>Existing Customer</td>\n",
       "      <td>45</td>\n",
       "      <td>1</td>\n",
       "      <td>3</td>\n",
       "      <td>3</td>\n",
       "      <td>1</td>\n",
       "      <td>4</td>\n",
       "      <td>1</td>\n",
       "      <td>39</td>\n",
       "      <td>...</td>\n",
       "      <td>1</td>\n",
       "      <td>3</td>\n",
       "      <td>12691.0</td>\n",
       "      <td>777</td>\n",
       "      <td>11914.0</td>\n",
       "      <td>1.335</td>\n",
       "      <td>1144</td>\n",
       "      <td>42</td>\n",
       "      <td>1.625</td>\n",
       "      <td>0.061</td>\n",
       "    </tr>\n",
       "    <tr>\n",
       "      <th>1</th>\n",
       "      <td>818770008</td>\n",
       "      <td>Existing Customer</td>\n",
       "      <td>49</td>\n",
       "      <td>0</td>\n",
       "      <td>5</td>\n",
       "      <td>5</td>\n",
       "      <td>2</td>\n",
       "      <td>2</td>\n",
       "      <td>1</td>\n",
       "      <td>44</td>\n",
       "      <td>...</td>\n",
       "      <td>1</td>\n",
       "      <td>2</td>\n",
       "      <td>8256.0</td>\n",
       "      <td>864</td>\n",
       "      <td>7392.0</td>\n",
       "      <td>1.541</td>\n",
       "      <td>1291</td>\n",
       "      <td>33</td>\n",
       "      <td>3.714</td>\n",
       "      <td>0.105</td>\n",
       "    </tr>\n",
       "    <tr>\n",
       "      <th>2</th>\n",
       "      <td>713982108</td>\n",
       "      <td>Existing Customer</td>\n",
       "      <td>51</td>\n",
       "      <td>1</td>\n",
       "      <td>3</td>\n",
       "      <td>5</td>\n",
       "      <td>1</td>\n",
       "      <td>5</td>\n",
       "      <td>1</td>\n",
       "      <td>36</td>\n",
       "      <td>...</td>\n",
       "      <td>1</td>\n",
       "      <td>0</td>\n",
       "      <td>3418.0</td>\n",
       "      <td>0</td>\n",
       "      <td>3418.0</td>\n",
       "      <td>2.594</td>\n",
       "      <td>1887</td>\n",
       "      <td>20</td>\n",
       "      <td>2.333</td>\n",
       "      <td>0.000</td>\n",
       "    </tr>\n",
       "    <tr>\n",
       "      <th>3</th>\n",
       "      <td>769911858</td>\n",
       "      <td>Existing Customer</td>\n",
       "      <td>40</td>\n",
       "      <td>0</td>\n",
       "      <td>4</td>\n",
       "      <td>3</td>\n",
       "      <td>3</td>\n",
       "      <td>2</td>\n",
       "      <td>1</td>\n",
       "      <td>34</td>\n",
       "      <td>...</td>\n",
       "      <td>4</td>\n",
       "      <td>1</td>\n",
       "      <td>3313.0</td>\n",
       "      <td>2517</td>\n",
       "      <td>796.0</td>\n",
       "      <td>1.405</td>\n",
       "      <td>1171</td>\n",
       "      <td>20</td>\n",
       "      <td>2.333</td>\n",
       "      <td>0.760</td>\n",
       "    </tr>\n",
       "    <tr>\n",
       "      <th>4</th>\n",
       "      <td>709106358</td>\n",
       "      <td>Existing Customer</td>\n",
       "      <td>40</td>\n",
       "      <td>1</td>\n",
       "      <td>3</td>\n",
       "      <td>2</td>\n",
       "      <td>1</td>\n",
       "      <td>4</td>\n",
       "      <td>1</td>\n",
       "      <td>21</td>\n",
       "      <td>...</td>\n",
       "      <td>1</td>\n",
       "      <td>0</td>\n",
       "      <td>4716.0</td>\n",
       "      <td>0</td>\n",
       "      <td>4716.0</td>\n",
       "      <td>2.175</td>\n",
       "      <td>816</td>\n",
       "      <td>28</td>\n",
       "      <td>2.500</td>\n",
       "      <td>0.000</td>\n",
       "    </tr>\n",
       "    <tr>\n",
       "      <th>5</th>\n",
       "      <td>713061558</td>\n",
       "      <td>Existing Customer</td>\n",
       "      <td>44</td>\n",
       "      <td>1</td>\n",
       "      <td>2</td>\n",
       "      <td>5</td>\n",
       "      <td>1</td>\n",
       "      <td>3</td>\n",
       "      <td>1</td>\n",
       "      <td>36</td>\n",
       "      <td>...</td>\n",
       "      <td>1</td>\n",
       "      <td>2</td>\n",
       "      <td>4010.0</td>\n",
       "      <td>1247</td>\n",
       "      <td>2763.0</td>\n",
       "      <td>1.376</td>\n",
       "      <td>1088</td>\n",
       "      <td>24</td>\n",
       "      <td>0.846</td>\n",
       "      <td>0.311</td>\n",
       "    </tr>\n",
       "    <tr>\n",
       "      <th>6</th>\n",
       "      <td>810347208</td>\n",
       "      <td>Existing Customer</td>\n",
       "      <td>51</td>\n",
       "      <td>1</td>\n",
       "      <td>4</td>\n",
       "      <td>1</td>\n",
       "      <td>1</td>\n",
       "      <td>6</td>\n",
       "      <td>3</td>\n",
       "      <td>46</td>\n",
       "      <td>...</td>\n",
       "      <td>1</td>\n",
       "      <td>3</td>\n",
       "      <td>34516.0</td>\n",
       "      <td>2264</td>\n",
       "      <td>32252.0</td>\n",
       "      <td>1.975</td>\n",
       "      <td>1330</td>\n",
       "      <td>31</td>\n",
       "      <td>0.722</td>\n",
       "      <td>0.066</td>\n",
       "    </tr>\n",
       "    <tr>\n",
       "      <th>7</th>\n",
       "      <td>818906208</td>\n",
       "      <td>Existing Customer</td>\n",
       "      <td>32</td>\n",
       "      <td>1</td>\n",
       "      <td>0</td>\n",
       "      <td>3</td>\n",
       "      <td>3</td>\n",
       "      <td>4</td>\n",
       "      <td>2</td>\n",
       "      <td>27</td>\n",
       "      <td>...</td>\n",
       "      <td>2</td>\n",
       "      <td>2</td>\n",
       "      <td>29081.0</td>\n",
       "      <td>1396</td>\n",
       "      <td>27685.0</td>\n",
       "      <td>2.204</td>\n",
       "      <td>1538</td>\n",
       "      <td>36</td>\n",
       "      <td>0.714</td>\n",
       "      <td>0.048</td>\n",
       "    </tr>\n",
       "    <tr>\n",
       "      <th>8</th>\n",
       "      <td>710930508</td>\n",
       "      <td>Existing Customer</td>\n",
       "      <td>37</td>\n",
       "      <td>1</td>\n",
       "      <td>3</td>\n",
       "      <td>2</td>\n",
       "      <td>2</td>\n",
       "      <td>4</td>\n",
       "      <td>1</td>\n",
       "      <td>36</td>\n",
       "      <td>...</td>\n",
       "      <td>2</td>\n",
       "      <td>0</td>\n",
       "      <td>22352.0</td>\n",
       "      <td>2517</td>\n",
       "      <td>19835.0</td>\n",
       "      <td>3.355</td>\n",
       "      <td>1350</td>\n",
       "      <td>24</td>\n",
       "      <td>1.182</td>\n",
       "      <td>0.113</td>\n",
       "    </tr>\n",
       "    <tr>\n",
       "      <th>9</th>\n",
       "      <td>719661558</td>\n",
       "      <td>Existing Customer</td>\n",
       "      <td>48</td>\n",
       "      <td>1</td>\n",
       "      <td>2</td>\n",
       "      <td>5</td>\n",
       "      <td>2</td>\n",
       "      <td>5</td>\n",
       "      <td>1</td>\n",
       "      <td>36</td>\n",
       "      <td>...</td>\n",
       "      <td>3</td>\n",
       "      <td>3</td>\n",
       "      <td>11656.0</td>\n",
       "      <td>1677</td>\n",
       "      <td>9979.0</td>\n",
       "      <td>1.524</td>\n",
       "      <td>1441</td>\n",
       "      <td>32</td>\n",
       "      <td>0.882</td>\n",
       "      <td>0.144</td>\n",
       "    </tr>\n",
       "  </tbody>\n",
       "</table>\n",
       "<p>10 rows × 21 columns</p>\n",
       "</div>"
      ],
      "text/plain": [
       "   CLIENTNUM     Attrition_Flag  Customer_Age  Gender  Dependent_count  \\\n",
       "0  768805383  Existing Customer            45       1                3   \n",
       "1  818770008  Existing Customer            49       0                5   \n",
       "2  713982108  Existing Customer            51       1                3   \n",
       "3  769911858  Existing Customer            40       0                4   \n",
       "4  709106358  Existing Customer            40       1                3   \n",
       "5  713061558  Existing Customer            44       1                2   \n",
       "6  810347208  Existing Customer            51       1                4   \n",
       "7  818906208  Existing Customer            32       1                0   \n",
       "8  710930508  Existing Customer            37       1                3   \n",
       "9  719661558  Existing Customer            48       1                2   \n",
       "\n",
       "   Education_Level  Marital_Status  Income_Category  Card_Category  \\\n",
       "0                3               1                4              1   \n",
       "1                5               2                2              1   \n",
       "2                5               1                5              1   \n",
       "3                3               3                2              1   \n",
       "4                2               1                4              1   \n",
       "5                5               1                3              1   \n",
       "6                1               1                6              3   \n",
       "7                3               3                4              2   \n",
       "8                2               2                4              1   \n",
       "9                5               2                5              1   \n",
       "\n",
       "   Months_on_book  ...  Months_Inactive_12_mon  Contacts_Count_12_mon  \\\n",
       "0              39  ...                       1                      3   \n",
       "1              44  ...                       1                      2   \n",
       "2              36  ...                       1                      0   \n",
       "3              34  ...                       4                      1   \n",
       "4              21  ...                       1                      0   \n",
       "5              36  ...                       1                      2   \n",
       "6              46  ...                       1                      3   \n",
       "7              27  ...                       2                      2   \n",
       "8              36  ...                       2                      0   \n",
       "9              36  ...                       3                      3   \n",
       "\n",
       "   Credit_Limit  Total_Revolving_Bal  Avg_Open_To_Buy  Total_Amt_Chng_Q4_Q1  \\\n",
       "0       12691.0                  777          11914.0                 1.335   \n",
       "1        8256.0                  864           7392.0                 1.541   \n",
       "2        3418.0                    0           3418.0                 2.594   \n",
       "3        3313.0                 2517            796.0                 1.405   \n",
       "4        4716.0                    0           4716.0                 2.175   \n",
       "5        4010.0                 1247           2763.0                 1.376   \n",
       "6       34516.0                 2264          32252.0                 1.975   \n",
       "7       29081.0                 1396          27685.0                 2.204   \n",
       "8       22352.0                 2517          19835.0                 3.355   \n",
       "9       11656.0                 1677           9979.0                 1.524   \n",
       "\n",
       "   Total_Trans_Amt  Total_Trans_Ct  Total_Ct_Chng_Q4_Q1  Avg_Utilization_Ratio  \n",
       "0             1144              42                1.625                  0.061  \n",
       "1             1291              33                3.714                  0.105  \n",
       "2             1887              20                2.333                  0.000  \n",
       "3             1171              20                2.333                  0.760  \n",
       "4              816              28                2.500                  0.000  \n",
       "5             1088              24                0.846                  0.311  \n",
       "6             1330              31                0.722                  0.066  \n",
       "7             1538              36                0.714                  0.048  \n",
       "8             1350              24                1.182                  0.113  \n",
       "9             1441              32                0.882                  0.144  \n",
       "\n",
       "[10 rows x 21 columns]"
      ]
     },
     "execution_count": 92,
     "metadata": {},
     "output_type": "execute_result"
    }
   ],
   "source": [
    "#Import encoded data\n",
    "bankchurnersencoded = pd.read_csv('../03 Feature Engineering/bankchurnersencoded.csv')\n",
    "bankchurnersencoded.head(10)"
   ]
  },
  {
   "cell_type": "markdown",
   "metadata": {},
   "source": [
    "# Split data into X (features) and Y (classes)"
   ]
  },
  {
   "cell_type": "code",
   "execution_count": 93,
   "metadata": {},
   "outputs": [
    {
     "name": "stdout",
     "output_type": "stream",
     "text": [
      "(10127, 19)\n"
     ]
    }
   ],
   "source": [
    "# Create X data (Features)\n",
    "X = bankchurnersencoded.drop([\"CLIENTNUM\", \"Attrition_Flag\"], axis=1)\n",
    "print(X.shape)"
   ]
  },
  {
   "cell_type": "code",
   "execution_count": 94,
   "metadata": {},
   "outputs": [
    {
     "name": "stdout",
     "output_type": "stream",
     "text": [
      "(10127,)\n"
     ]
    }
   ],
   "source": [
    "# Create y (classification data)\n",
    "y = bankchurnersencoded[\"Attrition_Flag\"]\n",
    "print(y.shape)"
   ]
  },
  {
   "cell_type": "markdown",
   "metadata": {},
   "source": [
    "# Split data into Train and Test data"
   ]
  },
  {
   "cell_type": "code",
   "execution_count": 95,
   "metadata": {},
   "outputs": [],
   "source": [
    "from sklearn.model_selection import train_test_split\n",
    "from sklearn.preprocessing import LabelEncoder, MinMaxScaler\n",
    "from tensorflow.keras.utils import to_categorical"
   ]
  },
  {
   "cell_type": "code",
   "execution_count": 96,
   "metadata": {},
   "outputs": [],
   "source": [
    "#Define split\n",
    "X_train, X_test, y_train, y_test = train_test_split(\n",
    "    X, y, random_state=1)"
   ]
  },
  {
   "cell_type": "markdown",
   "metadata": {},
   "source": [
    "**Resetting X_test and Y_test index**"
   ]
  },
  {
   "cell_type": "code",
   "execution_count": 97,
   "metadata": {},
   "outputs": [
    {
     "data": {
      "text/html": [
       "<div>\n",
       "<style scoped>\n",
       "    .dataframe tbody tr th:only-of-type {\n",
       "        vertical-align: middle;\n",
       "    }\n",
       "\n",
       "    .dataframe tbody tr th {\n",
       "        vertical-align: top;\n",
       "    }\n",
       "\n",
       "    .dataframe thead th {\n",
       "        text-align: right;\n",
       "    }\n",
       "</style>\n",
       "<table border=\"1\" class=\"dataframe\">\n",
       "  <thead>\n",
       "    <tr style=\"text-align: right;\">\n",
       "      <th></th>\n",
       "      <th>Customer_Age</th>\n",
       "      <th>Gender</th>\n",
       "      <th>Dependent_count</th>\n",
       "      <th>Education_Level</th>\n",
       "      <th>Marital_Status</th>\n",
       "      <th>Income_Category</th>\n",
       "      <th>Card_Category</th>\n",
       "      <th>Months_on_book</th>\n",
       "      <th>Total_Relationship_Count</th>\n",
       "      <th>Months_Inactive_12_mon</th>\n",
       "      <th>Contacts_Count_12_mon</th>\n",
       "      <th>Credit_Limit</th>\n",
       "      <th>Total_Revolving_Bal</th>\n",
       "      <th>Avg_Open_To_Buy</th>\n",
       "      <th>Total_Amt_Chng_Q4_Q1</th>\n",
       "      <th>Total_Trans_Amt</th>\n",
       "      <th>Total_Trans_Ct</th>\n",
       "      <th>Total_Ct_Chng_Q4_Q1</th>\n",
       "      <th>Avg_Utilization_Ratio</th>\n",
       "    </tr>\n",
       "  </thead>\n",
       "  <tbody>\n",
       "    <tr>\n",
       "      <th>0</th>\n",
       "      <td>43</td>\n",
       "      <td>0</td>\n",
       "      <td>2</td>\n",
       "      <td>5</td>\n",
       "      <td>1</td>\n",
       "      <td>2</td>\n",
       "      <td>1</td>\n",
       "      <td>36</td>\n",
       "      <td>6</td>\n",
       "      <td>3</td>\n",
       "      <td>2</td>\n",
       "      <td>2570.0</td>\n",
       "      <td>2107</td>\n",
       "      <td>463.0</td>\n",
       "      <td>0.651</td>\n",
       "      <td>4058</td>\n",
       "      <td>83</td>\n",
       "      <td>0.766</td>\n",
       "      <td>0.820</td>\n",
       "    </tr>\n",
       "    <tr>\n",
       "      <th>1</th>\n",
       "      <td>38</td>\n",
       "      <td>0</td>\n",
       "      <td>1</td>\n",
       "      <td>4</td>\n",
       "      <td>3</td>\n",
       "      <td>2</td>\n",
       "      <td>1</td>\n",
       "      <td>32</td>\n",
       "      <td>2</td>\n",
       "      <td>3</td>\n",
       "      <td>3</td>\n",
       "      <td>2609.0</td>\n",
       "      <td>1259</td>\n",
       "      <td>1350.0</td>\n",
       "      <td>0.871</td>\n",
       "      <td>8677</td>\n",
       "      <td>96</td>\n",
       "      <td>0.627</td>\n",
       "      <td>0.483</td>\n",
       "    </tr>\n",
       "    <tr>\n",
       "      <th>2</th>\n",
       "      <td>39</td>\n",
       "      <td>1</td>\n",
       "      <td>2</td>\n",
       "      <td>4</td>\n",
       "      <td>1</td>\n",
       "      <td>4</td>\n",
       "      <td>1</td>\n",
       "      <td>31</td>\n",
       "      <td>6</td>\n",
       "      <td>3</td>\n",
       "      <td>2</td>\n",
       "      <td>9871.0</td>\n",
       "      <td>1061</td>\n",
       "      <td>8810.0</td>\n",
       "      <td>0.545</td>\n",
       "      <td>1683</td>\n",
       "      <td>34</td>\n",
       "      <td>0.478</td>\n",
       "      <td>0.107</td>\n",
       "    </tr>\n",
       "    <tr>\n",
       "      <th>3</th>\n",
       "      <td>44</td>\n",
       "      <td>1</td>\n",
       "      <td>4</td>\n",
       "      <td>5</td>\n",
       "      <td>1</td>\n",
       "      <td>6</td>\n",
       "      <td>1</td>\n",
       "      <td>32</td>\n",
       "      <td>6</td>\n",
       "      <td>3</td>\n",
       "      <td>4</td>\n",
       "      <td>34516.0</td>\n",
       "      <td>2517</td>\n",
       "      <td>31999.0</td>\n",
       "      <td>0.765</td>\n",
       "      <td>4228</td>\n",
       "      <td>83</td>\n",
       "      <td>0.596</td>\n",
       "      <td>0.073</td>\n",
       "    </tr>\n",
       "    <tr>\n",
       "      <th>4</th>\n",
       "      <td>38</td>\n",
       "      <td>0</td>\n",
       "      <td>2</td>\n",
       "      <td>7</td>\n",
       "      <td>1</td>\n",
       "      <td>2</td>\n",
       "      <td>1</td>\n",
       "      <td>28</td>\n",
       "      <td>5</td>\n",
       "      <td>2</td>\n",
       "      <td>4</td>\n",
       "      <td>1614.0</td>\n",
       "      <td>0</td>\n",
       "      <td>1614.0</td>\n",
       "      <td>0.609</td>\n",
       "      <td>2437</td>\n",
       "      <td>46</td>\n",
       "      <td>0.438</td>\n",
       "      <td>0.000</td>\n",
       "    </tr>\n",
       "  </tbody>\n",
       "</table>\n",
       "</div>"
      ],
      "text/plain": [
       "   Customer_Age  Gender  Dependent_count  Education_Level  Marital_Status  \\\n",
       "0            43       0                2                5               1   \n",
       "1            38       0                1                4               3   \n",
       "2            39       1                2                4               1   \n",
       "3            44       1                4                5               1   \n",
       "4            38       0                2                7               1   \n",
       "\n",
       "   Income_Category  Card_Category  Months_on_book  Total_Relationship_Count  \\\n",
       "0                2              1              36                         6   \n",
       "1                2              1              32                         2   \n",
       "2                4              1              31                         6   \n",
       "3                6              1              32                         6   \n",
       "4                2              1              28                         5   \n",
       "\n",
       "   Months_Inactive_12_mon  Contacts_Count_12_mon  Credit_Limit  \\\n",
       "0                       3                      2        2570.0   \n",
       "1                       3                      3        2609.0   \n",
       "2                       3                      2        9871.0   \n",
       "3                       3                      4       34516.0   \n",
       "4                       2                      4        1614.0   \n",
       "\n",
       "   Total_Revolving_Bal  Avg_Open_To_Buy  Total_Amt_Chng_Q4_Q1  \\\n",
       "0                 2107            463.0                 0.651   \n",
       "1                 1259           1350.0                 0.871   \n",
       "2                 1061           8810.0                 0.545   \n",
       "3                 2517          31999.0                 0.765   \n",
       "4                    0           1614.0                 0.609   \n",
       "\n",
       "   Total_Trans_Amt  Total_Trans_Ct  Total_Ct_Chng_Q4_Q1  Avg_Utilization_Ratio  \n",
       "0             4058              83                0.766                  0.820  \n",
       "1             8677              96                0.627                  0.483  \n",
       "2             1683              34                0.478                  0.107  \n",
       "3             4228              83                0.596                  0.073  \n",
       "4             2437              46                0.438                  0.000  "
      ]
     },
     "execution_count": 97,
     "metadata": {},
     "output_type": "execute_result"
    }
   ],
   "source": [
    "X_test = X_test.reset_index(drop=True)\n",
    "X_test[:5]"
   ]
  },
  {
   "cell_type": "code",
   "execution_count": 98,
   "metadata": {},
   "outputs": [
    {
     "data": {
      "text/plain": [
       "0    Existing Customer\n",
       "1    Existing Customer\n",
       "2    Existing Customer\n",
       "3    Existing Customer\n",
       "4    Attrited Customer\n",
       "Name: Attrition_Flag, dtype: object"
      ]
     },
     "execution_count": 98,
     "metadata": {},
     "output_type": "execute_result"
    }
   ],
   "source": [
    "y_test = y_test.reset_index(drop=True)\n",
    "y_test[:5]"
   ]
  },
  {
   "cell_type": "markdown",
   "metadata": {},
   "source": [
    "# One-hot encode Y classes"
   ]
  },
  {
   "cell_type": "markdown",
   "metadata": {},
   "source": [
    "* Initial label encoding"
   ]
  },
  {
   "cell_type": "code",
   "execution_count": 99,
   "metadata": {},
   "outputs": [],
   "source": [
    "# Set encoder\n",
    "label_encoder = LabelEncoder()"
   ]
  },
  {
   "cell_type": "code",
   "execution_count": 100,
   "metadata": {},
   "outputs": [
    {
     "data": {
      "text/plain": [
       "LabelEncoder()"
      ]
     },
     "execution_count": 100,
     "metadata": {},
     "output_type": "execute_result"
    }
   ],
   "source": [
    "# Fit Y classes to encoder\n",
    "label_encoder.fit(y_train)"
   ]
  },
  {
   "cell_type": "code",
   "execution_count": 101,
   "metadata": {},
   "outputs": [],
   "source": [
    "#Transform Y-train classes - CAN ONLY DO THIS ONCE\n",
    "encoded_y_train = label_encoder.transform(y_train)"
   ]
  },
  {
   "cell_type": "code",
   "execution_count": 102,
   "metadata": {},
   "outputs": [
    {
     "name": "stdout",
     "output_type": "stream",
     "text": [
      "Y train first ten classes\n",
      "4477    Existing Customer\n",
      "5191    Attrited Customer\n",
      "2150    Existing Customer\n",
      "1821    Existing Customer\n",
      "9127    Existing Customer\n",
      "1669    Existing Customer\n",
      "7548    Existing Customer\n",
      "7079    Existing Customer\n",
      "8674    Existing Customer\n",
      "4355    Existing Customer\n",
      "Name: Attrition_Flag, dtype: object\n"
     ]
    }
   ],
   "source": [
    "print(\"Y train first ten classes\")\n",
    "print(y_train[:10])"
   ]
  },
  {
   "cell_type": "code",
   "execution_count": 103,
   "metadata": {},
   "outputs": [
    {
     "name": "stdout",
     "output_type": "stream",
     "text": [
      "Y train Encoded first ten classes\n",
      "[1 0 1 1 1 1 1 1 1 1]\n"
     ]
    }
   ],
   "source": [
    "print(\"Y train Encoded first ten classes\")\n",
    "print(encoded_y_train[:10])"
   ]
  },
  {
   "cell_type": "code",
   "execution_count": 104,
   "metadata": {},
   "outputs": [],
   "source": [
    "#Transform Y-test classes - CAN ONLY DO THIS ONCE\n",
    "encoded_y_test = label_encoder.transform(y_test)"
   ]
  },
  {
   "cell_type": "code",
   "execution_count": 105,
   "metadata": {},
   "outputs": [
    {
     "name": "stdout",
     "output_type": "stream",
     "text": [
      "Y test first ten classes\n",
      "0    Existing Customer\n",
      "1    Existing Customer\n",
      "2    Existing Customer\n",
      "3    Existing Customer\n",
      "4    Attrited Customer\n",
      "5    Existing Customer\n",
      "6    Attrited Customer\n",
      "7    Existing Customer\n",
      "8    Existing Customer\n",
      "9    Attrited Customer\n",
      "Name: Attrition_Flag, dtype: object\n"
     ]
    }
   ],
   "source": [
    "print(\"Y test first ten classes\")\n",
    "print(y_test[:10])"
   ]
  },
  {
   "cell_type": "code",
   "execution_count": 106,
   "metadata": {},
   "outputs": [
    {
     "name": "stdout",
     "output_type": "stream",
     "text": [
      "Y test Encoded first ten classes\n",
      "[1 1 1 1 0 1 0 1 1 0]\n"
     ]
    }
   ],
   "source": [
    "print(\"Y test Encoded first ten classes\")\n",
    "print(encoded_y_test[:10])"
   ]
  },
  {
   "cell_type": "markdown",
   "metadata": {},
   "source": [
    "* One-hot encoding\n",
    "    * Think we may only need this if doing deep learning - other models may only require labelencoding"
   ]
  },
  {
   "cell_type": "code",
   "execution_count": 107,
   "metadata": {},
   "outputs": [],
   "source": [
    "#One-hot transform Y train - CAN ONLY DO ONCE\n",
    "y_train_categorical = to_categorical(encoded_y_train)"
   ]
  },
  {
   "cell_type": "code",
   "execution_count": 108,
   "metadata": {},
   "outputs": [
    {
     "name": "stdout",
     "output_type": "stream",
     "text": [
      "Y train first ten classes\n",
      "4477    Existing Customer\n",
      "5191    Attrited Customer\n",
      "2150    Existing Customer\n",
      "1821    Existing Customer\n",
      "9127    Existing Customer\n",
      "1669    Existing Customer\n",
      "7548    Existing Customer\n",
      "7079    Existing Customer\n",
      "8674    Existing Customer\n",
      "4355    Existing Customer\n",
      "Name: Attrition_Flag, dtype: object\n"
     ]
    }
   ],
   "source": [
    "print(\"Y train first ten classes\")\n",
    "print(y_train[:10])"
   ]
  },
  {
   "cell_type": "code",
   "execution_count": 109,
   "metadata": {},
   "outputs": [
    {
     "name": "stdout",
     "output_type": "stream",
     "text": [
      "Y train One-Hot encoded first ten classes\n",
      "[[0. 1.]\n",
      " [1. 0.]\n",
      " [0. 1.]\n",
      " [0. 1.]\n",
      " [0. 1.]\n",
      " [0. 1.]\n",
      " [0. 1.]\n",
      " [0. 1.]\n",
      " [0. 1.]\n",
      " [0. 1.]]\n"
     ]
    }
   ],
   "source": [
    "print(\"Y train One-Hot encoded first ten classes\")\n",
    "print(y_train_categorical[:10])"
   ]
  },
  {
   "cell_type": "code",
   "execution_count": 110,
   "metadata": {},
   "outputs": [],
   "source": [
    "#One-hot transform Y test - CAN ONLY DO ONCE\n",
    "y_test_categorical = to_categorical(encoded_y_test)"
   ]
  },
  {
   "cell_type": "code",
   "execution_count": 111,
   "metadata": {},
   "outputs": [
    {
     "name": "stdout",
     "output_type": "stream",
     "text": [
      "Y test first ten classes\n",
      "0    Existing Customer\n",
      "1    Existing Customer\n",
      "2    Existing Customer\n",
      "3    Existing Customer\n",
      "4    Attrited Customer\n",
      "5    Existing Customer\n",
      "6    Attrited Customer\n",
      "7    Existing Customer\n",
      "8    Existing Customer\n",
      "9    Attrited Customer\n",
      "Name: Attrition_Flag, dtype: object\n"
     ]
    }
   ],
   "source": [
    "print(\"Y test first ten classes\")\n",
    "print(y_test[:10])"
   ]
  },
  {
   "cell_type": "code",
   "execution_count": 112,
   "metadata": {},
   "outputs": [
    {
     "name": "stdout",
     "output_type": "stream",
     "text": [
      "Y test One-Hot encoded first ten classes\n",
      "[[0. 1.]\n",
      " [0. 1.]\n",
      " [0. 1.]\n",
      " [0. 1.]\n",
      " [1. 0.]\n",
      " [0. 1.]\n",
      " [1. 0.]\n",
      " [0. 1.]\n",
      " [0. 1.]\n",
      " [1. 0.]]\n"
     ]
    }
   ],
   "source": [
    "print(\"Y test One-Hot encoded first ten classes\")\n",
    "print(y_test_categorical[:10])"
   ]
  },
  {
   "cell_type": "markdown",
   "metadata": {},
   "source": [
    "# Scale X data"
   ]
  },
  {
   "cell_type": "markdown",
   "metadata": {},
   "source": [
    "### Code to scale specific columns (features)"
   ]
  },
  {
   "cell_type": "code",
   "execution_count": 113,
   "metadata": {},
   "outputs": [],
   "source": [
    "#Import Scaler\n",
    "from pickle import load\n",
    "X_scaler = load(open('../04 Pre-processing Template/X_scaler.pkl', 'rb'))"
   ]
  },
  {
   "cell_type": "code",
   "execution_count": 114,
   "metadata": {},
   "outputs": [
    {
     "data": {
      "text/plain": [
       "['Months_on_book',\n",
       " 'Total_Relationship_Count',\n",
       " 'Months_Inactive_12_mon',\n",
       " 'Contacts_Count_12_mon',\n",
       " 'Credit_Limit',\n",
       " 'Total_Revolving_Bal',\n",
       " 'Avg_Open_To_Buy',\n",
       " 'Total_Amt_Chng_Q4_Q1',\n",
       " 'Total_Trans_Amt',\n",
       " 'Total_Trans_Ct',\n",
       " 'Total_Ct_Chng_Q4_Q1']"
      ]
     },
     "execution_count": 114,
     "metadata": {},
     "output_type": "execute_result"
    }
   ],
   "source": [
    "#List columns that need scaling\n",
    "col_names = ['Months_on_book', 'Total_Relationship_Count', 'Months_Inactive_12_mon',\n",
    "       'Contacts_Count_12_mon', 'Credit_Limit', 'Total_Revolving_Bal',\n",
    "       'Avg_Open_To_Buy', 'Total_Amt_Chng_Q4_Q1', 'Total_Trans_Amt',\n",
    "       'Total_Trans_Ct', 'Total_Ct_Chng_Q4_Q1']\n",
    "col_names"
   ]
  },
  {
   "cell_type": "markdown",
   "metadata": {},
   "source": [
    "**Pass X_train data through scaling model**"
   ]
  },
  {
   "cell_type": "code",
   "execution_count": 115,
   "metadata": {},
   "outputs": [],
   "source": [
    "#Copy the dataframe\n",
    "X_train_scaled = X_train.copy()"
   ]
  },
  {
   "cell_type": "code",
   "execution_count": 116,
   "metadata": {},
   "outputs": [
    {
     "data": {
      "text/html": [
       "<div>\n",
       "<style scoped>\n",
       "    .dataframe tbody tr th:only-of-type {\n",
       "        vertical-align: middle;\n",
       "    }\n",
       "\n",
       "    .dataframe tbody tr th {\n",
       "        vertical-align: top;\n",
       "    }\n",
       "\n",
       "    .dataframe thead th {\n",
       "        text-align: right;\n",
       "    }\n",
       "</style>\n",
       "<table border=\"1\" class=\"dataframe\">\n",
       "  <thead>\n",
       "    <tr style=\"text-align: right;\">\n",
       "      <th></th>\n",
       "      <th>Months_on_book</th>\n",
       "      <th>Total_Relationship_Count</th>\n",
       "      <th>Months_Inactive_12_mon</th>\n",
       "      <th>Contacts_Count_12_mon</th>\n",
       "      <th>Credit_Limit</th>\n",
       "      <th>Total_Revolving_Bal</th>\n",
       "      <th>Avg_Open_To_Buy</th>\n",
       "      <th>Total_Amt_Chng_Q4_Q1</th>\n",
       "      <th>Total_Trans_Amt</th>\n",
       "      <th>Total_Trans_Ct</th>\n",
       "      <th>Total_Ct_Chng_Q4_Q1</th>\n",
       "    </tr>\n",
       "  </thead>\n",
       "  <tbody>\n",
       "    <tr>\n",
       "      <th>4477</th>\n",
       "      <td>31</td>\n",
       "      <td>4</td>\n",
       "      <td>2</td>\n",
       "      <td>3</td>\n",
       "      <td>18056.0</td>\n",
       "      <td>940</td>\n",
       "      <td>17116.0</td>\n",
       "      <td>0.629</td>\n",
       "      <td>4473</td>\n",
       "      <td>72</td>\n",
       "      <td>0.600</td>\n",
       "    </tr>\n",
       "    <tr>\n",
       "      <th>5191</th>\n",
       "      <td>36</td>\n",
       "      <td>4</td>\n",
       "      <td>3</td>\n",
       "      <td>6</td>\n",
       "      <td>7939.0</td>\n",
       "      <td>0</td>\n",
       "      <td>7939.0</td>\n",
       "      <td>0.551</td>\n",
       "      <td>2269</td>\n",
       "      <td>42</td>\n",
       "      <td>0.312</td>\n",
       "    </tr>\n",
       "    <tr>\n",
       "      <th>2150</th>\n",
       "      <td>17</td>\n",
       "      <td>5</td>\n",
       "      <td>1</td>\n",
       "      <td>2</td>\n",
       "      <td>7173.0</td>\n",
       "      <td>1227</td>\n",
       "      <td>5946.0</td>\n",
       "      <td>0.646</td>\n",
       "      <td>1793</td>\n",
       "      <td>33</td>\n",
       "      <td>0.737</td>\n",
       "    </tr>\n",
       "    <tr>\n",
       "      <th>1821</th>\n",
       "      <td>36</td>\n",
       "      <td>6</td>\n",
       "      <td>2</td>\n",
       "      <td>4</td>\n",
       "      <td>3586.0</td>\n",
       "      <td>1414</td>\n",
       "      <td>2172.0</td>\n",
       "      <td>0.745</td>\n",
       "      <td>2780</td>\n",
       "      <td>57</td>\n",
       "      <td>0.727</td>\n",
       "    </tr>\n",
       "    <tr>\n",
       "      <th>9127</th>\n",
       "      <td>46</td>\n",
       "      <td>2</td>\n",
       "      <td>3</td>\n",
       "      <td>2</td>\n",
       "      <td>34516.0</td>\n",
       "      <td>0</td>\n",
       "      <td>34516.0</td>\n",
       "      <td>0.887</td>\n",
       "      <td>8416</td>\n",
       "      <td>93</td>\n",
       "      <td>0.632</td>\n",
       "    </tr>\n",
       "  </tbody>\n",
       "</table>\n",
       "</div>"
      ],
      "text/plain": [
       "      Months_on_book  Total_Relationship_Count  Months_Inactive_12_mon  \\\n",
       "4477              31                         4                       2   \n",
       "5191              36                         4                       3   \n",
       "2150              17                         5                       1   \n",
       "1821              36                         6                       2   \n",
       "9127              46                         2                       3   \n",
       "\n",
       "      Contacts_Count_12_mon  Credit_Limit  Total_Revolving_Bal  \\\n",
       "4477                      3       18056.0                  940   \n",
       "5191                      6        7939.0                    0   \n",
       "2150                      2        7173.0                 1227   \n",
       "1821                      4        3586.0                 1414   \n",
       "9127                      2       34516.0                    0   \n",
       "\n",
       "      Avg_Open_To_Buy  Total_Amt_Chng_Q4_Q1  Total_Trans_Amt  Total_Trans_Ct  \\\n",
       "4477          17116.0                 0.629             4473              72   \n",
       "5191           7939.0                 0.551             2269              42   \n",
       "2150           5946.0                 0.646             1793              33   \n",
       "1821           2172.0                 0.745             2780              57   \n",
       "9127          34516.0                 0.887             8416              93   \n",
       "\n",
       "      Total_Ct_Chng_Q4_Q1  \n",
       "4477                0.600  \n",
       "5191                0.312  \n",
       "2150                0.737  \n",
       "1821                0.727  \n",
       "9127                0.632  "
      ]
     },
     "execution_count": 116,
     "metadata": {},
     "output_type": "execute_result"
    }
   ],
   "source": [
    "#Create dataframe of just the columns to be scaled\n",
    "X_train_features = X_train_scaled[col_names]\n",
    "X_train_features.head()"
   ]
  },
  {
   "cell_type": "code",
   "execution_count": 117,
   "metadata": {},
   "outputs": [
    {
     "data": {
      "text/plain": [
       "array([[0.41860465, 0.6       , 0.33333333, ..., 0.22665142, 0.48062016,\n",
       "        0.16155089],\n",
       "       [0.53488372, 0.6       , 0.5       , ..., 0.10060051, 0.24806202,\n",
       "        0.08400646],\n",
       "       [0.09302326, 0.8       , 0.16666667, ..., 0.07337718, 0.17829457,\n",
       "        0.19843834],\n",
       "       ...,\n",
       "       [0.60465116, 0.4       , 0.5       , ..., 0.02459251, 0.11627907,\n",
       "        0.12681745],\n",
       "       [0.51162791, 0.4       , 0.33333333, ..., 0.21063769, 0.53488372,\n",
       "        0.23721055],\n",
       "       [0.81395349, 0.6       , 0.5       , ..., 0.05730626, 0.13178295,\n",
       "        0.3917609 ]])"
      ]
     },
     "execution_count": 117,
     "metadata": {},
     "output_type": "execute_result"
    }
   ],
   "source": [
    "#Transform the data\n",
    "X_train_features = X_scaler.transform(X_train_features.values)\n",
    "X_train_features"
   ]
  },
  {
   "cell_type": "markdown",
   "metadata": {},
   "source": [
    "**Update data frame**"
   ]
  },
  {
   "cell_type": "code",
   "execution_count": 118,
   "metadata": {},
   "outputs": [],
   "source": [
    "#Updated originally copied df with new scaled features\n",
    "X_train_scaled[col_names] = X_train_features"
   ]
  },
  {
   "cell_type": "code",
   "execution_count": 119,
   "metadata": {},
   "outputs": [],
   "source": [
    "# X_train_scaled.head()"
   ]
  },
  {
   "cell_type": "markdown",
   "metadata": {},
   "source": [
    "**Pass X-test data through scaling model**"
   ]
  },
  {
   "cell_type": "code",
   "execution_count": 120,
   "metadata": {},
   "outputs": [],
   "source": [
    "#Copy the dataframe\n",
    "X_test_scaled = X_test.copy()"
   ]
  },
  {
   "cell_type": "code",
   "execution_count": 121,
   "metadata": {},
   "outputs": [
    {
     "data": {
      "text/html": [
       "<div>\n",
       "<style scoped>\n",
       "    .dataframe tbody tr th:only-of-type {\n",
       "        vertical-align: middle;\n",
       "    }\n",
       "\n",
       "    .dataframe tbody tr th {\n",
       "        vertical-align: top;\n",
       "    }\n",
       "\n",
       "    .dataframe thead th {\n",
       "        text-align: right;\n",
       "    }\n",
       "</style>\n",
       "<table border=\"1\" class=\"dataframe\">\n",
       "  <thead>\n",
       "    <tr style=\"text-align: right;\">\n",
       "      <th></th>\n",
       "      <th>Months_on_book</th>\n",
       "      <th>Total_Relationship_Count</th>\n",
       "      <th>Months_Inactive_12_mon</th>\n",
       "      <th>Contacts_Count_12_mon</th>\n",
       "      <th>Credit_Limit</th>\n",
       "      <th>Total_Revolving_Bal</th>\n",
       "      <th>Avg_Open_To_Buy</th>\n",
       "      <th>Total_Amt_Chng_Q4_Q1</th>\n",
       "      <th>Total_Trans_Amt</th>\n",
       "      <th>Total_Trans_Ct</th>\n",
       "      <th>Total_Ct_Chng_Q4_Q1</th>\n",
       "    </tr>\n",
       "  </thead>\n",
       "  <tbody>\n",
       "    <tr>\n",
       "      <th>0</th>\n",
       "      <td>36</td>\n",
       "      <td>6</td>\n",
       "      <td>3</td>\n",
       "      <td>2</td>\n",
       "      <td>2570.0</td>\n",
       "      <td>2107</td>\n",
       "      <td>463.0</td>\n",
       "      <td>0.651</td>\n",
       "      <td>4058</td>\n",
       "      <td>83</td>\n",
       "      <td>0.766</td>\n",
       "    </tr>\n",
       "    <tr>\n",
       "      <th>1</th>\n",
       "      <td>32</td>\n",
       "      <td>2</td>\n",
       "      <td>3</td>\n",
       "      <td>3</td>\n",
       "      <td>2609.0</td>\n",
       "      <td>1259</td>\n",
       "      <td>1350.0</td>\n",
       "      <td>0.871</td>\n",
       "      <td>8677</td>\n",
       "      <td>96</td>\n",
       "      <td>0.627</td>\n",
       "    </tr>\n",
       "    <tr>\n",
       "      <th>2</th>\n",
       "      <td>31</td>\n",
       "      <td>6</td>\n",
       "      <td>3</td>\n",
       "      <td>2</td>\n",
       "      <td>9871.0</td>\n",
       "      <td>1061</td>\n",
       "      <td>8810.0</td>\n",
       "      <td>0.545</td>\n",
       "      <td>1683</td>\n",
       "      <td>34</td>\n",
       "      <td>0.478</td>\n",
       "    </tr>\n",
       "    <tr>\n",
       "      <th>3</th>\n",
       "      <td>32</td>\n",
       "      <td>6</td>\n",
       "      <td>3</td>\n",
       "      <td>4</td>\n",
       "      <td>34516.0</td>\n",
       "      <td>2517</td>\n",
       "      <td>31999.0</td>\n",
       "      <td>0.765</td>\n",
       "      <td>4228</td>\n",
       "      <td>83</td>\n",
       "      <td>0.596</td>\n",
       "    </tr>\n",
       "    <tr>\n",
       "      <th>4</th>\n",
       "      <td>28</td>\n",
       "      <td>5</td>\n",
       "      <td>2</td>\n",
       "      <td>4</td>\n",
       "      <td>1614.0</td>\n",
       "      <td>0</td>\n",
       "      <td>1614.0</td>\n",
       "      <td>0.609</td>\n",
       "      <td>2437</td>\n",
       "      <td>46</td>\n",
       "      <td>0.438</td>\n",
       "    </tr>\n",
       "  </tbody>\n",
       "</table>\n",
       "</div>"
      ],
      "text/plain": [
       "   Months_on_book  Total_Relationship_Count  Months_Inactive_12_mon  \\\n",
       "0              36                         6                       3   \n",
       "1              32                         2                       3   \n",
       "2              31                         6                       3   \n",
       "3              32                         6                       3   \n",
       "4              28                         5                       2   \n",
       "\n",
       "   Contacts_Count_12_mon  Credit_Limit  Total_Revolving_Bal  Avg_Open_To_Buy  \\\n",
       "0                      2        2570.0                 2107            463.0   \n",
       "1                      3        2609.0                 1259           1350.0   \n",
       "2                      2        9871.0                 1061           8810.0   \n",
       "3                      4       34516.0                 2517          31999.0   \n",
       "4                      4        1614.0                    0           1614.0   \n",
       "\n",
       "   Total_Amt_Chng_Q4_Q1  Total_Trans_Amt  Total_Trans_Ct  Total_Ct_Chng_Q4_Q1  \n",
       "0                 0.651             4058              83                0.766  \n",
       "1                 0.871             8677              96                0.627  \n",
       "2                 0.545             1683              34                0.478  \n",
       "3                 0.765             4228              83                0.596  \n",
       "4                 0.609             2437              46                0.438  "
      ]
     },
     "execution_count": 121,
     "metadata": {},
     "output_type": "execute_result"
    }
   ],
   "source": [
    "#Create dataframe of just the columns to be scaled\n",
    "X_test_features = X_test_scaled[col_names]\n",
    "X_test_features.head()"
   ]
  },
  {
   "cell_type": "code",
   "execution_count": 122,
   "metadata": {},
   "outputs": [
    {
     "data": {
      "text/plain": [
       "array([[0.53488372, 1.        , 0.5       , ..., 0.20291679, 0.56589147,\n",
       "        0.20624663],\n",
       "       [0.44186047, 0.2       , 0.5       , ..., 0.46708607, 0.66666667,\n",
       "        0.16882068],\n",
       "       [0.41860465, 1.        , 0.5       , ..., 0.06708607, 0.18604651,\n",
       "        0.12870221],\n",
       "       ...,\n",
       "       [0.53488372, 1.        , 0.33333333, ..., 0.06182442, 0.25581395,\n",
       "        0.19386107],\n",
       "       [0.53488372, 0.4       , 0.33333333, ..., 0.25621962, 0.54263566,\n",
       "        0.24367259],\n",
       "       [0.55813953, 0.2       , 0.5       , ..., 0.48138404, 0.72093023,\n",
       "        0.17097469]])"
      ]
     },
     "execution_count": 122,
     "metadata": {},
     "output_type": "execute_result"
    }
   ],
   "source": [
    "#Transform the data\n",
    "X_test_features = X_scaler.transform(X_test_features.values)\n",
    "X_test_features"
   ]
  },
  {
   "cell_type": "code",
   "execution_count": 123,
   "metadata": {},
   "outputs": [],
   "source": [
    "#Updated originally copied df with new scaled features\n",
    "X_test_scaled[col_names] = X_test_features"
   ]
  },
  {
   "cell_type": "code",
   "execution_count": 124,
   "metadata": {},
   "outputs": [
    {
     "data": {
      "text/html": [
       "<div>\n",
       "<style scoped>\n",
       "    .dataframe tbody tr th:only-of-type {\n",
       "        vertical-align: middle;\n",
       "    }\n",
       "\n",
       "    .dataframe tbody tr th {\n",
       "        vertical-align: top;\n",
       "    }\n",
       "\n",
       "    .dataframe thead th {\n",
       "        text-align: right;\n",
       "    }\n",
       "</style>\n",
       "<table border=\"1\" class=\"dataframe\">\n",
       "  <thead>\n",
       "    <tr style=\"text-align: right;\">\n",
       "      <th></th>\n",
       "      <th>Customer_Age</th>\n",
       "      <th>Gender</th>\n",
       "      <th>Dependent_count</th>\n",
       "      <th>Education_Level</th>\n",
       "      <th>Marital_Status</th>\n",
       "      <th>Income_Category</th>\n",
       "      <th>Card_Category</th>\n",
       "      <th>Months_on_book</th>\n",
       "      <th>Total_Relationship_Count</th>\n",
       "      <th>Months_Inactive_12_mon</th>\n",
       "      <th>Contacts_Count_12_mon</th>\n",
       "      <th>Credit_Limit</th>\n",
       "      <th>Total_Revolving_Bal</th>\n",
       "      <th>Avg_Open_To_Buy</th>\n",
       "      <th>Total_Amt_Chng_Q4_Q1</th>\n",
       "      <th>Total_Trans_Amt</th>\n",
       "      <th>Total_Trans_Ct</th>\n",
       "      <th>Total_Ct_Chng_Q4_Q1</th>\n",
       "      <th>Avg_Utilization_Ratio</th>\n",
       "    </tr>\n",
       "  </thead>\n",
       "  <tbody>\n",
       "    <tr>\n",
       "      <th>0</th>\n",
       "      <td>43</td>\n",
       "      <td>0</td>\n",
       "      <td>2</td>\n",
       "      <td>5</td>\n",
       "      <td>1</td>\n",
       "      <td>2</td>\n",
       "      <td>1</td>\n",
       "      <td>0.534884</td>\n",
       "      <td>1.0</td>\n",
       "      <td>0.500000</td>\n",
       "      <td>0.333333</td>\n",
       "      <td>0.034213</td>\n",
       "      <td>0.837108</td>\n",
       "      <td>0.013328</td>\n",
       "      <td>0.191640</td>\n",
       "      <td>0.202917</td>\n",
       "      <td>0.565891</td>\n",
       "      <td>0.206247</td>\n",
       "      <td>0.820</td>\n",
       "    </tr>\n",
       "    <tr>\n",
       "      <th>1</th>\n",
       "      <td>38</td>\n",
       "      <td>0</td>\n",
       "      <td>1</td>\n",
       "      <td>4</td>\n",
       "      <td>3</td>\n",
       "      <td>2</td>\n",
       "      <td>1</td>\n",
       "      <td>0.441860</td>\n",
       "      <td>0.2</td>\n",
       "      <td>0.500000</td>\n",
       "      <td>0.500000</td>\n",
       "      <td>0.035392</td>\n",
       "      <td>0.500199</td>\n",
       "      <td>0.039029</td>\n",
       "      <td>0.256403</td>\n",
       "      <td>0.467086</td>\n",
       "      <td>0.666667</td>\n",
       "      <td>0.168821</td>\n",
       "      <td>0.483</td>\n",
       "    </tr>\n",
       "    <tr>\n",
       "      <th>2</th>\n",
       "      <td>39</td>\n",
       "      <td>1</td>\n",
       "      <td>2</td>\n",
       "      <td>4</td>\n",
       "      <td>1</td>\n",
       "      <td>4</td>\n",
       "      <td>1</td>\n",
       "      <td>0.418605</td>\n",
       "      <td>1.0</td>\n",
       "      <td>0.500000</td>\n",
       "      <td>0.333333</td>\n",
       "      <td>0.254936</td>\n",
       "      <td>0.421534</td>\n",
       "      <td>0.255179</td>\n",
       "      <td>0.160436</td>\n",
       "      <td>0.067086</td>\n",
       "      <td>0.186047</td>\n",
       "      <td>0.128702</td>\n",
       "      <td>0.107</td>\n",
       "    </tr>\n",
       "    <tr>\n",
       "      <th>3</th>\n",
       "      <td>44</td>\n",
       "      <td>1</td>\n",
       "      <td>4</td>\n",
       "      <td>5</td>\n",
       "      <td>1</td>\n",
       "      <td>6</td>\n",
       "      <td>1</td>\n",
       "      <td>0.441860</td>\n",
       "      <td>1.0</td>\n",
       "      <td>0.500000</td>\n",
       "      <td>0.666667</td>\n",
       "      <td>1.000000</td>\n",
       "      <td>1.000000</td>\n",
       "      <td>0.927071</td>\n",
       "      <td>0.225199</td>\n",
       "      <td>0.212639</td>\n",
       "      <td>0.565891</td>\n",
       "      <td>0.160474</td>\n",
       "      <td>0.073</td>\n",
       "    </tr>\n",
       "    <tr>\n",
       "      <th>4</th>\n",
       "      <td>38</td>\n",
       "      <td>0</td>\n",
       "      <td>2</td>\n",
       "      <td>7</td>\n",
       "      <td>1</td>\n",
       "      <td>2</td>\n",
       "      <td>1</td>\n",
       "      <td>0.348837</td>\n",
       "      <td>0.8</td>\n",
       "      <td>0.333333</td>\n",
       "      <td>0.666667</td>\n",
       "      <td>0.005312</td>\n",
       "      <td>0.000000</td>\n",
       "      <td>0.046678</td>\n",
       "      <td>0.179276</td>\n",
       "      <td>0.110209</td>\n",
       "      <td>0.279070</td>\n",
       "      <td>0.117932</td>\n",
       "      <td>0.000</td>\n",
       "    </tr>\n",
       "  </tbody>\n",
       "</table>\n",
       "</div>"
      ],
      "text/plain": [
       "   Customer_Age  Gender  Dependent_count  Education_Level  Marital_Status  \\\n",
       "0            43       0                2                5               1   \n",
       "1            38       0                1                4               3   \n",
       "2            39       1                2                4               1   \n",
       "3            44       1                4                5               1   \n",
       "4            38       0                2                7               1   \n",
       "\n",
       "   Income_Category  Card_Category  Months_on_book  Total_Relationship_Count  \\\n",
       "0                2              1        0.534884                       1.0   \n",
       "1                2              1        0.441860                       0.2   \n",
       "2                4              1        0.418605                       1.0   \n",
       "3                6              1        0.441860                       1.0   \n",
       "4                2              1        0.348837                       0.8   \n",
       "\n",
       "   Months_Inactive_12_mon  Contacts_Count_12_mon  Credit_Limit  \\\n",
       "0                0.500000               0.333333      0.034213   \n",
       "1                0.500000               0.500000      0.035392   \n",
       "2                0.500000               0.333333      0.254936   \n",
       "3                0.500000               0.666667      1.000000   \n",
       "4                0.333333               0.666667      0.005312   \n",
       "\n",
       "   Total_Revolving_Bal  Avg_Open_To_Buy  Total_Amt_Chng_Q4_Q1  \\\n",
       "0             0.837108         0.013328              0.191640   \n",
       "1             0.500199         0.039029              0.256403   \n",
       "2             0.421534         0.255179              0.160436   \n",
       "3             1.000000         0.927071              0.225199   \n",
       "4             0.000000         0.046678              0.179276   \n",
       "\n",
       "   Total_Trans_Amt  Total_Trans_Ct  Total_Ct_Chng_Q4_Q1  Avg_Utilization_Ratio  \n",
       "0         0.202917        0.565891             0.206247                  0.820  \n",
       "1         0.467086        0.666667             0.168821                  0.483  \n",
       "2         0.067086        0.186047             0.128702                  0.107  \n",
       "3         0.212639        0.565891             0.160474                  0.073  \n",
       "4         0.110209        0.279070             0.117932                  0.000  "
      ]
     },
     "execution_count": 124,
     "metadata": {},
     "output_type": "execute_result"
    }
   ],
   "source": [
    "X_test_scaled.head()"
   ]
  },
  {
   "cell_type": "markdown",
   "metadata": {},
   "source": [
    "Old code for scaling entire data - which is not required"
   ]
  },
  {
   "cell_type": "code",
   "execution_count": 125,
   "metadata": {},
   "outputs": [],
   "source": [
    "#Scaling specific columns test\n",
    "# X_scaler = MinMaxScaler()"
   ]
  },
  {
   "cell_type": "code",
   "execution_count": 126,
   "metadata": {},
   "outputs": [],
   "source": [
    "#Fit X_traindata to scaler\n",
    "# X_scaler = MinMaxScaler().fit(X_train)"
   ]
  },
  {
   "cell_type": "code",
   "execution_count": 127,
   "metadata": {},
   "outputs": [],
   "source": [
    "#Transform X-train data - CAN ONLY RUN THIS ONCE\n",
    "# X_train_scaled = X_scaler.transform(X_train)"
   ]
  },
  {
   "cell_type": "code",
   "execution_count": 128,
   "metadata": {},
   "outputs": [],
   "source": [
    "#Transform X-Test data - CAN ONLY RUN THIS ONCE\n",
    "# X_test_scaled = X_scaler.transform(X_test)"
   ]
  },
  {
   "cell_type": "code",
   "execution_count": 129,
   "metadata": {},
   "outputs": [],
   "source": [
    "# X_test_scaled[:10]"
   ]
  },
  {
   "cell_type": "markdown",
   "metadata": {},
   "source": [
    "# Pre-processing code from template - STOP"
   ]
  },
  {
   "cell_type": "markdown",
   "metadata": {},
   "source": [
    "# Machine Learning Model - Decision Tree"
   ]
  },
  {
   "cell_type": "code",
   "execution_count": 130,
   "metadata": {},
   "outputs": [],
   "source": [
    "# Uncomment pip install if sklearn not up to date \n",
    "# Update sklearn to prevent version mismatches\n",
    "#!pip install sklearn --upgrade"
   ]
  },
  {
   "cell_type": "code",
   "execution_count": 131,
   "metadata": {},
   "outputs": [],
   "source": [
    "# Uncomment if joblib not installed\n",
    "# install joblib. This will be used to save your model. \n",
    "# Restart your kernel after installing \n",
    "#!pip install joblib"
   ]
  },
  {
   "cell_type": "code",
   "execution_count": 132,
   "metadata": {},
   "outputs": [],
   "source": [
    "import os"
   ]
  },
  {
   "cell_type": "code",
   "execution_count": 133,
   "metadata": {},
   "outputs": [],
   "source": [
    "from sklearn import tree"
   ]
  },
  {
   "cell_type": "code",
   "execution_count": 134,
   "metadata": {},
   "outputs": [
    {
     "data": {
      "text/plain": [
       "DecisionTreeClassifier()"
      ]
     },
     "execution_count": 134,
     "metadata": {},
     "output_type": "execute_result"
    }
   ],
   "source": [
    "#define the model\n",
    "classifier = tree.DecisionTreeClassifier()\n",
    "classifier"
   ]
  },
  {
   "cell_type": "code",
   "execution_count": 135,
   "metadata": {},
   "outputs": [],
   "source": [
    "#Fit the model\n",
    "classifier = classifier.fit(X_train_scaled, y_train_categorical)"
   ]
  },
  {
   "cell_type": "code",
   "execution_count": 136,
   "metadata": {},
   "outputs": [
    {
     "name": "stdout",
     "output_type": "stream",
     "text": [
      "Training Data Score: 1.0\n",
      "Testing Data Score: 0.9360189573459715\n"
     ]
    }
   ],
   "source": [
    "#Score the model\n",
    "print(f\"Training Data Score: {classifier.score(X_train_scaled, y_train_categorical)}\")\n",
    "print(f\"Testing Data Score: {classifier.score(X_test_scaled, y_test_categorical)}\")"
   ]
  },
  {
   "cell_type": "markdown",
   "metadata": {},
   "source": [
    "## Prediction"
   ]
  },
  {
   "cell_type": "code",
   "execution_count": 137,
   "metadata": {},
   "outputs": [],
   "source": [
    "predictions_tree = classifier.predict(X_test_scaled)"
   ]
  },
  {
   "cell_type": "code",
   "execution_count": 138,
   "metadata": {},
   "outputs": [
    {
     "data": {
      "text/plain": [
       "array([1, 1, 1, ..., 1, 1, 1])"
      ]
     },
     "execution_count": 138,
     "metadata": {},
     "output_type": "execute_result"
    }
   ],
   "source": [
    "#https://stackoverflow.com/questions/47380663/numpy-reverse-keras-to-categorical\n",
    "predictions_tree_decoded = np.argmax(predictions_tree, axis=1)\n",
    "predictions_tree_decoded"
   ]
  },
  {
   "cell_type": "code",
   "execution_count": 139,
   "metadata": {},
   "outputs": [],
   "source": [
    "#https://scikit-learn.org/stable/modules/generated/sklearn.preprocessing.LabelEncoder.html\n",
    "predictions_tree_labels = label_encoder.inverse_transform(predictions_tree_decoded)"
   ]
  },
  {
   "cell_type": "code",
   "execution_count": 140,
   "metadata": {},
   "outputs": [
    {
     "data": {
      "text/plain": [
       "array(['Existing Customer', 'Existing Customer', 'Existing Customer', ...,\n",
       "       'Existing Customer', 'Existing Customer', 'Existing Customer'],\n",
       "      dtype=object)"
      ]
     },
     "execution_count": 140,
     "metadata": {},
     "output_type": "execute_result"
    }
   ],
   "source": [
    "predictions_tree_labels"
   ]
  },
  {
   "cell_type": "code",
   "execution_count": 141,
   "metadata": {},
   "outputs": [
    {
     "data": {
      "text/plain": [
       "0       Existing Customer\n",
       "1       Existing Customer\n",
       "2       Existing Customer\n",
       "3       Existing Customer\n",
       "4       Attrited Customer\n",
       "              ...        \n",
       "2527    Existing Customer\n",
       "2528    Existing Customer\n",
       "2529    Existing Customer\n",
       "2530    Existing Customer\n",
       "2531    Existing Customer\n",
       "Name: Attrition_Flag, Length: 2532, dtype: object"
      ]
     },
     "execution_count": 141,
     "metadata": {},
     "output_type": "execute_result"
    }
   ],
   "source": [
    "y_test"
   ]
  },
  {
   "cell_type": "code",
   "execution_count": 142,
   "metadata": {},
   "outputs": [],
   "source": [
    "y_test_string = y_test.reset_index(drop=True)"
   ]
  },
  {
   "cell_type": "code",
   "execution_count": 143,
   "metadata": {},
   "outputs": [],
   "source": [
    "#print(\"Tree Predicted Labels:\")\n",
    "# for i in range(0,50):\n",
    "#     print(f\"Tree Predicted Output:{predictions_tree[i]} {predictions_tree_labels[i]} - Actual classification: {y_test_string[i]}\")\n",
    "# print(\"-\" * 20)"
   ]
  },
  {
   "cell_type": "markdown",
   "metadata": {},
   "source": [
    "## Create comparison data frame"
   ]
  },
  {
   "cell_type": "code",
   "execution_count": 144,
   "metadata": {},
   "outputs": [],
   "source": [
    "#print(\"Tree Predicted Labels:\")\n",
    "# for i in range(0,50):\n",
    "#     print(f\"Tree Predicted Output:{predictions_tree[i]} {predictions_tree_labels[i]} - Actual classification: {y_test_string[i]}\")\n",
    "# print(\"-\" * 20)"
   ]
  },
  {
   "cell_type": "code",
   "execution_count": 145,
   "metadata": {},
   "outputs": [
    {
     "data": {
      "text/html": [
       "<div>\n",
       "<style scoped>\n",
       "    .dataframe tbody tr th:only-of-type {\n",
       "        vertical-align: middle;\n",
       "    }\n",
       "\n",
       "    .dataframe tbody tr th {\n",
       "        vertical-align: top;\n",
       "    }\n",
       "\n",
       "    .dataframe thead th {\n",
       "        text-align: right;\n",
       "    }\n",
       "</style>\n",
       "<table border=\"1\" class=\"dataframe\">\n",
       "  <thead>\n",
       "    <tr style=\"text-align: right;\">\n",
       "      <th></th>\n",
       "      <th>Prediction Class</th>\n",
       "      <th>Prediction Label</th>\n",
       "      <th>Actual Label</th>\n",
       "    </tr>\n",
       "  </thead>\n",
       "  <tbody>\n",
       "    <tr>\n",
       "      <th>0</th>\n",
       "      <td>1</td>\n",
       "      <td>Existing Customer</td>\n",
       "      <td>Existing Customer</td>\n",
       "    </tr>\n",
       "    <tr>\n",
       "      <th>1</th>\n",
       "      <td>1</td>\n",
       "      <td>Existing Customer</td>\n",
       "      <td>Existing Customer</td>\n",
       "    </tr>\n",
       "    <tr>\n",
       "      <th>2</th>\n",
       "      <td>1</td>\n",
       "      <td>Existing Customer</td>\n",
       "      <td>Existing Customer</td>\n",
       "    </tr>\n",
       "    <tr>\n",
       "      <th>3</th>\n",
       "      <td>1</td>\n",
       "      <td>Existing Customer</td>\n",
       "      <td>Existing Customer</td>\n",
       "    </tr>\n",
       "    <tr>\n",
       "      <th>4</th>\n",
       "      <td>0</td>\n",
       "      <td>Attrited Customer</td>\n",
       "      <td>Attrited Customer</td>\n",
       "    </tr>\n",
       "    <tr>\n",
       "      <th>5</th>\n",
       "      <td>1</td>\n",
       "      <td>Existing Customer</td>\n",
       "      <td>Existing Customer</td>\n",
       "    </tr>\n",
       "    <tr>\n",
       "      <th>6</th>\n",
       "      <td>0</td>\n",
       "      <td>Attrited Customer</td>\n",
       "      <td>Attrited Customer</td>\n",
       "    </tr>\n",
       "    <tr>\n",
       "      <th>7</th>\n",
       "      <td>1</td>\n",
       "      <td>Existing Customer</td>\n",
       "      <td>Existing Customer</td>\n",
       "    </tr>\n",
       "    <tr>\n",
       "      <th>8</th>\n",
       "      <td>1</td>\n",
       "      <td>Existing Customer</td>\n",
       "      <td>Existing Customer</td>\n",
       "    </tr>\n",
       "    <tr>\n",
       "      <th>9</th>\n",
       "      <td>0</td>\n",
       "      <td>Attrited Customer</td>\n",
       "      <td>Attrited Customer</td>\n",
       "    </tr>\n",
       "    <tr>\n",
       "      <th>10</th>\n",
       "      <td>1</td>\n",
       "      <td>Existing Customer</td>\n",
       "      <td>Existing Customer</td>\n",
       "    </tr>\n",
       "    <tr>\n",
       "      <th>11</th>\n",
       "      <td>1</td>\n",
       "      <td>Existing Customer</td>\n",
       "      <td>Existing Customer</td>\n",
       "    </tr>\n",
       "    <tr>\n",
       "      <th>12</th>\n",
       "      <td>1</td>\n",
       "      <td>Existing Customer</td>\n",
       "      <td>Existing Customer</td>\n",
       "    </tr>\n",
       "    <tr>\n",
       "      <th>13</th>\n",
       "      <td>1</td>\n",
       "      <td>Existing Customer</td>\n",
       "      <td>Existing Customer</td>\n",
       "    </tr>\n",
       "    <tr>\n",
       "      <th>14</th>\n",
       "      <td>1</td>\n",
       "      <td>Existing Customer</td>\n",
       "      <td>Existing Customer</td>\n",
       "    </tr>\n",
       "    <tr>\n",
       "      <th>15</th>\n",
       "      <td>1</td>\n",
       "      <td>Existing Customer</td>\n",
       "      <td>Existing Customer</td>\n",
       "    </tr>\n",
       "    <tr>\n",
       "      <th>16</th>\n",
       "      <td>1</td>\n",
       "      <td>Existing Customer</td>\n",
       "      <td>Existing Customer</td>\n",
       "    </tr>\n",
       "    <tr>\n",
       "      <th>17</th>\n",
       "      <td>1</td>\n",
       "      <td>Existing Customer</td>\n",
       "      <td>Existing Customer</td>\n",
       "    </tr>\n",
       "    <tr>\n",
       "      <th>18</th>\n",
       "      <td>1</td>\n",
       "      <td>Existing Customer</td>\n",
       "      <td>Existing Customer</td>\n",
       "    </tr>\n",
       "    <tr>\n",
       "      <th>19</th>\n",
       "      <td>1</td>\n",
       "      <td>Existing Customer</td>\n",
       "      <td>Existing Customer</td>\n",
       "    </tr>\n",
       "    <tr>\n",
       "      <th>20</th>\n",
       "      <td>1</td>\n",
       "      <td>Existing Customer</td>\n",
       "      <td>Existing Customer</td>\n",
       "    </tr>\n",
       "    <tr>\n",
       "      <th>21</th>\n",
       "      <td>1</td>\n",
       "      <td>Existing Customer</td>\n",
       "      <td>Existing Customer</td>\n",
       "    </tr>\n",
       "    <tr>\n",
       "      <th>22</th>\n",
       "      <td>1</td>\n",
       "      <td>Existing Customer</td>\n",
       "      <td>Existing Customer</td>\n",
       "    </tr>\n",
       "    <tr>\n",
       "      <th>23</th>\n",
       "      <td>1</td>\n",
       "      <td>Existing Customer</td>\n",
       "      <td>Existing Customer</td>\n",
       "    </tr>\n",
       "    <tr>\n",
       "      <th>24</th>\n",
       "      <td>1</td>\n",
       "      <td>Existing Customer</td>\n",
       "      <td>Existing Customer</td>\n",
       "    </tr>\n",
       "    <tr>\n",
       "      <th>25</th>\n",
       "      <td>0</td>\n",
       "      <td>Attrited Customer</td>\n",
       "      <td>Existing Customer</td>\n",
       "    </tr>\n",
       "    <tr>\n",
       "      <th>26</th>\n",
       "      <td>1</td>\n",
       "      <td>Existing Customer</td>\n",
       "      <td>Existing Customer</td>\n",
       "    </tr>\n",
       "    <tr>\n",
       "      <th>27</th>\n",
       "      <td>1</td>\n",
       "      <td>Existing Customer</td>\n",
       "      <td>Existing Customer</td>\n",
       "    </tr>\n",
       "    <tr>\n",
       "      <th>28</th>\n",
       "      <td>0</td>\n",
       "      <td>Attrited Customer</td>\n",
       "      <td>Attrited Customer</td>\n",
       "    </tr>\n",
       "    <tr>\n",
       "      <th>29</th>\n",
       "      <td>1</td>\n",
       "      <td>Existing Customer</td>\n",
       "      <td>Existing Customer</td>\n",
       "    </tr>\n",
       "    <tr>\n",
       "      <th>30</th>\n",
       "      <td>1</td>\n",
       "      <td>Existing Customer</td>\n",
       "      <td>Existing Customer</td>\n",
       "    </tr>\n",
       "    <tr>\n",
       "      <th>31</th>\n",
       "      <td>1</td>\n",
       "      <td>Existing Customer</td>\n",
       "      <td>Existing Customer</td>\n",
       "    </tr>\n",
       "    <tr>\n",
       "      <th>32</th>\n",
       "      <td>1</td>\n",
       "      <td>Existing Customer</td>\n",
       "      <td>Existing Customer</td>\n",
       "    </tr>\n",
       "    <tr>\n",
       "      <th>33</th>\n",
       "      <td>1</td>\n",
       "      <td>Existing Customer</td>\n",
       "      <td>Attrited Customer</td>\n",
       "    </tr>\n",
       "    <tr>\n",
       "      <th>34</th>\n",
       "      <td>1</td>\n",
       "      <td>Existing Customer</td>\n",
       "      <td>Existing Customer</td>\n",
       "    </tr>\n",
       "    <tr>\n",
       "      <th>35</th>\n",
       "      <td>1</td>\n",
       "      <td>Existing Customer</td>\n",
       "      <td>Existing Customer</td>\n",
       "    </tr>\n",
       "    <tr>\n",
       "      <th>36</th>\n",
       "      <td>1</td>\n",
       "      <td>Existing Customer</td>\n",
       "      <td>Existing Customer</td>\n",
       "    </tr>\n",
       "    <tr>\n",
       "      <th>37</th>\n",
       "      <td>0</td>\n",
       "      <td>Attrited Customer</td>\n",
       "      <td>Attrited Customer</td>\n",
       "    </tr>\n",
       "    <tr>\n",
       "      <th>38</th>\n",
       "      <td>1</td>\n",
       "      <td>Existing Customer</td>\n",
       "      <td>Existing Customer</td>\n",
       "    </tr>\n",
       "    <tr>\n",
       "      <th>39</th>\n",
       "      <td>1</td>\n",
       "      <td>Existing Customer</td>\n",
       "      <td>Existing Customer</td>\n",
       "    </tr>\n",
       "    <tr>\n",
       "      <th>40</th>\n",
       "      <td>1</td>\n",
       "      <td>Existing Customer</td>\n",
       "      <td>Existing Customer</td>\n",
       "    </tr>\n",
       "    <tr>\n",
       "      <th>41</th>\n",
       "      <td>0</td>\n",
       "      <td>Attrited Customer</td>\n",
       "      <td>Attrited Customer</td>\n",
       "    </tr>\n",
       "    <tr>\n",
       "      <th>42</th>\n",
       "      <td>1</td>\n",
       "      <td>Existing Customer</td>\n",
       "      <td>Existing Customer</td>\n",
       "    </tr>\n",
       "    <tr>\n",
       "      <th>43</th>\n",
       "      <td>1</td>\n",
       "      <td>Existing Customer</td>\n",
       "      <td>Existing Customer</td>\n",
       "    </tr>\n",
       "    <tr>\n",
       "      <th>44</th>\n",
       "      <td>1</td>\n",
       "      <td>Existing Customer</td>\n",
       "      <td>Existing Customer</td>\n",
       "    </tr>\n",
       "    <tr>\n",
       "      <th>45</th>\n",
       "      <td>1</td>\n",
       "      <td>Existing Customer</td>\n",
       "      <td>Existing Customer</td>\n",
       "    </tr>\n",
       "    <tr>\n",
       "      <th>46</th>\n",
       "      <td>0</td>\n",
       "      <td>Attrited Customer</td>\n",
       "      <td>Attrited Customer</td>\n",
       "    </tr>\n",
       "    <tr>\n",
       "      <th>47</th>\n",
       "      <td>1</td>\n",
       "      <td>Existing Customer</td>\n",
       "      <td>Existing Customer</td>\n",
       "    </tr>\n",
       "    <tr>\n",
       "      <th>48</th>\n",
       "      <td>0</td>\n",
       "      <td>Attrited Customer</td>\n",
       "      <td>Existing Customer</td>\n",
       "    </tr>\n",
       "    <tr>\n",
       "      <th>49</th>\n",
       "      <td>1</td>\n",
       "      <td>Existing Customer</td>\n",
       "      <td>Existing Customer</td>\n",
       "    </tr>\n",
       "  </tbody>\n",
       "</table>\n",
       "</div>"
      ],
      "text/plain": [
       "    Prediction Class   Prediction Label       Actual Label\n",
       "0                  1  Existing Customer  Existing Customer\n",
       "1                  1  Existing Customer  Existing Customer\n",
       "2                  1  Existing Customer  Existing Customer\n",
       "3                  1  Existing Customer  Existing Customer\n",
       "4                  0  Attrited Customer  Attrited Customer\n",
       "5                  1  Existing Customer  Existing Customer\n",
       "6                  0  Attrited Customer  Attrited Customer\n",
       "7                  1  Existing Customer  Existing Customer\n",
       "8                  1  Existing Customer  Existing Customer\n",
       "9                  0  Attrited Customer  Attrited Customer\n",
       "10                 1  Existing Customer  Existing Customer\n",
       "11                 1  Existing Customer  Existing Customer\n",
       "12                 1  Existing Customer  Existing Customer\n",
       "13                 1  Existing Customer  Existing Customer\n",
       "14                 1  Existing Customer  Existing Customer\n",
       "15                 1  Existing Customer  Existing Customer\n",
       "16                 1  Existing Customer  Existing Customer\n",
       "17                 1  Existing Customer  Existing Customer\n",
       "18                 1  Existing Customer  Existing Customer\n",
       "19                 1  Existing Customer  Existing Customer\n",
       "20                 1  Existing Customer  Existing Customer\n",
       "21                 1  Existing Customer  Existing Customer\n",
       "22                 1  Existing Customer  Existing Customer\n",
       "23                 1  Existing Customer  Existing Customer\n",
       "24                 1  Existing Customer  Existing Customer\n",
       "25                 0  Attrited Customer  Existing Customer\n",
       "26                 1  Existing Customer  Existing Customer\n",
       "27                 1  Existing Customer  Existing Customer\n",
       "28                 0  Attrited Customer  Attrited Customer\n",
       "29                 1  Existing Customer  Existing Customer\n",
       "30                 1  Existing Customer  Existing Customer\n",
       "31                 1  Existing Customer  Existing Customer\n",
       "32                 1  Existing Customer  Existing Customer\n",
       "33                 1  Existing Customer  Attrited Customer\n",
       "34                 1  Existing Customer  Existing Customer\n",
       "35                 1  Existing Customer  Existing Customer\n",
       "36                 1  Existing Customer  Existing Customer\n",
       "37                 0  Attrited Customer  Attrited Customer\n",
       "38                 1  Existing Customer  Existing Customer\n",
       "39                 1  Existing Customer  Existing Customer\n",
       "40                 1  Existing Customer  Existing Customer\n",
       "41                 0  Attrited Customer  Attrited Customer\n",
       "42                 1  Existing Customer  Existing Customer\n",
       "43                 1  Existing Customer  Existing Customer\n",
       "44                 1  Existing Customer  Existing Customer\n",
       "45                 1  Existing Customer  Existing Customer\n",
       "46                 0  Attrited Customer  Attrited Customer\n",
       "47                 1  Existing Customer  Existing Customer\n",
       "48                 0  Attrited Customer  Existing Customer\n",
       "49                 1  Existing Customer  Existing Customer"
      ]
     },
     "execution_count": 145,
     "metadata": {},
     "output_type": "execute_result"
    }
   ],
   "source": [
    "#Dataframe\n",
    "comparison_tree = pd.DataFrame({'Prediction Class': predictions_tree_decoded,\n",
    "                                'Prediction Label':predictions_tree_labels,\n",
    "                                'Actual Label':y_test})\n",
    "comparison_tree[:50]"
   ]
  },
  {
   "cell_type": "code",
   "execution_count": 146,
   "metadata": {},
   "outputs": [
    {
     "name": "stdout",
     "output_type": "stream",
     "text": [
      "In the Test data there is 411 attrited customers out of 2532 records.\n"
     ]
    },
    {
     "data": {
      "text/html": [
       "<div>\n",
       "<style scoped>\n",
       "    .dataframe tbody tr th:only-of-type {\n",
       "        vertical-align: middle;\n",
       "    }\n",
       "\n",
       "    .dataframe tbody tr th {\n",
       "        vertical-align: top;\n",
       "    }\n",
       "\n",
       "    .dataframe thead th {\n",
       "        text-align: right;\n",
       "    }\n",
       "</style>\n",
       "<table border=\"1\" class=\"dataframe\">\n",
       "  <thead>\n",
       "    <tr style=\"text-align: right;\">\n",
       "      <th></th>\n",
       "      <th>Prediction Class</th>\n",
       "      <th>Prediction Label</th>\n",
       "      <th>Actual Label</th>\n",
       "    </tr>\n",
       "  </thead>\n",
       "  <tbody>\n",
       "    <tr>\n",
       "      <th>4</th>\n",
       "      <td>0</td>\n",
       "      <td>Attrited Customer</td>\n",
       "      <td>Attrited Customer</td>\n",
       "    </tr>\n",
       "    <tr>\n",
       "      <th>6</th>\n",
       "      <td>0</td>\n",
       "      <td>Attrited Customer</td>\n",
       "      <td>Attrited Customer</td>\n",
       "    </tr>\n",
       "    <tr>\n",
       "      <th>9</th>\n",
       "      <td>0</td>\n",
       "      <td>Attrited Customer</td>\n",
       "      <td>Attrited Customer</td>\n",
       "    </tr>\n",
       "    <tr>\n",
       "      <th>25</th>\n",
       "      <td>0</td>\n",
       "      <td>Attrited Customer</td>\n",
       "      <td>Existing Customer</td>\n",
       "    </tr>\n",
       "    <tr>\n",
       "      <th>28</th>\n",
       "      <td>0</td>\n",
       "      <td>Attrited Customer</td>\n",
       "      <td>Attrited Customer</td>\n",
       "    </tr>\n",
       "    <tr>\n",
       "      <th>37</th>\n",
       "      <td>0</td>\n",
       "      <td>Attrited Customer</td>\n",
       "      <td>Attrited Customer</td>\n",
       "    </tr>\n",
       "    <tr>\n",
       "      <th>41</th>\n",
       "      <td>0</td>\n",
       "      <td>Attrited Customer</td>\n",
       "      <td>Attrited Customer</td>\n",
       "    </tr>\n",
       "    <tr>\n",
       "      <th>46</th>\n",
       "      <td>0</td>\n",
       "      <td>Attrited Customer</td>\n",
       "      <td>Attrited Customer</td>\n",
       "    </tr>\n",
       "    <tr>\n",
       "      <th>48</th>\n",
       "      <td>0</td>\n",
       "      <td>Attrited Customer</td>\n",
       "      <td>Existing Customer</td>\n",
       "    </tr>\n",
       "    <tr>\n",
       "      <th>50</th>\n",
       "      <td>0</td>\n",
       "      <td>Attrited Customer</td>\n",
       "      <td>Attrited Customer</td>\n",
       "    </tr>\n",
       "  </tbody>\n",
       "</table>\n",
       "</div>"
      ],
      "text/plain": [
       "    Prediction Class   Prediction Label       Actual Label\n",
       "4                  0  Attrited Customer  Attrited Customer\n",
       "6                  0  Attrited Customer  Attrited Customer\n",
       "9                  0  Attrited Customer  Attrited Customer\n",
       "25                 0  Attrited Customer  Existing Customer\n",
       "28                 0  Attrited Customer  Attrited Customer\n",
       "37                 0  Attrited Customer  Attrited Customer\n",
       "41                 0  Attrited Customer  Attrited Customer\n",
       "46                 0  Attrited Customer  Attrited Customer\n",
       "48                 0  Attrited Customer  Existing Customer\n",
       "50                 0  Attrited Customer  Attrited Customer"
      ]
     },
     "execution_count": 146,
     "metadata": {},
     "output_type": "execute_result"
    }
   ],
   "source": [
    "#Find all Predicted Attrited Customers\n",
    "#onlybilly = df.loc[df[“first name”] == “Billy”, :]\n",
    "attrited_only = comparison_tree.loc[comparison_tree[\"Prediction Label\"] == \"Attrited Customer\", :]\n",
    "print(f\"In the Test data there is {len(attrited_only)} attrited customers out of {len(comparison_tree)} records.\")\n",
    "attrited_only[:10]"
   ]
  },
  {
   "cell_type": "code",
   "execution_count": 147,
   "metadata": {},
   "outputs": [
    {
     "name": "stdout",
     "output_type": "stream",
     "text": [
      "There are 84 incorrectly predicted attrited customers out of 411 predicted attrities\n",
      "This is an actual accuracy of 79.56%.\n"
     ]
    },
    {
     "data": {
      "text/html": [
       "<div>\n",
       "<style scoped>\n",
       "    .dataframe tbody tr th:only-of-type {\n",
       "        vertical-align: middle;\n",
       "    }\n",
       "\n",
       "    .dataframe tbody tr th {\n",
       "        vertical-align: top;\n",
       "    }\n",
       "\n",
       "    .dataframe thead th {\n",
       "        text-align: right;\n",
       "    }\n",
       "</style>\n",
       "<table border=\"1\" class=\"dataframe\">\n",
       "  <thead>\n",
       "    <tr style=\"text-align: right;\">\n",
       "      <th></th>\n",
       "      <th>Prediction Class</th>\n",
       "      <th>Prediction Label</th>\n",
       "      <th>Actual Label</th>\n",
       "    </tr>\n",
       "  </thead>\n",
       "  <tbody>\n",
       "    <tr>\n",
       "      <th>25</th>\n",
       "      <td>0</td>\n",
       "      <td>Attrited Customer</td>\n",
       "      <td>Existing Customer</td>\n",
       "    </tr>\n",
       "    <tr>\n",
       "      <th>48</th>\n",
       "      <td>0</td>\n",
       "      <td>Attrited Customer</td>\n",
       "      <td>Existing Customer</td>\n",
       "    </tr>\n",
       "    <tr>\n",
       "      <th>56</th>\n",
       "      <td>0</td>\n",
       "      <td>Attrited Customer</td>\n",
       "      <td>Existing Customer</td>\n",
       "    </tr>\n",
       "    <tr>\n",
       "      <th>125</th>\n",
       "      <td>0</td>\n",
       "      <td>Attrited Customer</td>\n",
       "      <td>Existing Customer</td>\n",
       "    </tr>\n",
       "    <tr>\n",
       "      <th>158</th>\n",
       "      <td>0</td>\n",
       "      <td>Attrited Customer</td>\n",
       "      <td>Existing Customer</td>\n",
       "    </tr>\n",
       "    <tr>\n",
       "      <th>...</th>\n",
       "      <td>...</td>\n",
       "      <td>...</td>\n",
       "      <td>...</td>\n",
       "    </tr>\n",
       "    <tr>\n",
       "      <th>2481</th>\n",
       "      <td>0</td>\n",
       "      <td>Attrited Customer</td>\n",
       "      <td>Existing Customer</td>\n",
       "    </tr>\n",
       "    <tr>\n",
       "      <th>2486</th>\n",
       "      <td>0</td>\n",
       "      <td>Attrited Customer</td>\n",
       "      <td>Existing Customer</td>\n",
       "    </tr>\n",
       "    <tr>\n",
       "      <th>2498</th>\n",
       "      <td>0</td>\n",
       "      <td>Attrited Customer</td>\n",
       "      <td>Existing Customer</td>\n",
       "    </tr>\n",
       "    <tr>\n",
       "      <th>2509</th>\n",
       "      <td>0</td>\n",
       "      <td>Attrited Customer</td>\n",
       "      <td>Existing Customer</td>\n",
       "    </tr>\n",
       "    <tr>\n",
       "      <th>2525</th>\n",
       "      <td>0</td>\n",
       "      <td>Attrited Customer</td>\n",
       "      <td>Existing Customer</td>\n",
       "    </tr>\n",
       "  </tbody>\n",
       "</table>\n",
       "<p>84 rows × 3 columns</p>\n",
       "</div>"
      ],
      "text/plain": [
       "      Prediction Class   Prediction Label       Actual Label\n",
       "25                   0  Attrited Customer  Existing Customer\n",
       "48                   0  Attrited Customer  Existing Customer\n",
       "56                   0  Attrited Customer  Existing Customer\n",
       "125                  0  Attrited Customer  Existing Customer\n",
       "158                  0  Attrited Customer  Existing Customer\n",
       "...                ...                ...                ...\n",
       "2481                 0  Attrited Customer  Existing Customer\n",
       "2486                 0  Attrited Customer  Existing Customer\n",
       "2498                 0  Attrited Customer  Existing Customer\n",
       "2509                 0  Attrited Customer  Existing Customer\n",
       "2525                 0  Attrited Customer  Existing Customer\n",
       "\n",
       "[84 rows x 3 columns]"
      ]
     },
     "execution_count": 147,
     "metadata": {},
     "output_type": "execute_result"
    }
   ],
   "source": [
    "#From predicted Attrited customers, find all actual labels equal to Existing Customer \n",
    "incorrect_attrited = attrited_only.loc[attrited_only[\"Actual Label\"] == \"Existing Customer\", :]\n",
    "print(f\"There are {len(incorrect_attrited)} incorrectly predicted attrited customers out of {len(attrited_only)} predicted attrities\")\n",
    "Percent_correct = str(round(((len(attrited_only)-len(incorrect_attrited))/len(attrited_only))*100, 2))\n",
    "print(f\"This is an actual accuracy of {Percent_correct}%.\")\n",
    "incorrect_attrited\n",
    "      "
   ]
  },
  {
   "cell_type": "markdown",
   "metadata": {},
   "source": [
    "# Machine Learning Model - Random Forest Model"
   ]
  },
  {
   "cell_type": "code",
   "execution_count": 148,
   "metadata": {},
   "outputs": [],
   "source": [
    "from sklearn.ensemble import RandomForestClassifier"
   ]
  },
  {
   "cell_type": "code",
   "execution_count": 149,
   "metadata": {},
   "outputs": [],
   "source": [
    "#Define model\n",
    "randomforestmodel = RandomForestClassifier(n_estimators=200)"
   ]
  },
  {
   "cell_type": "code",
   "execution_count": 150,
   "metadata": {},
   "outputs": [],
   "source": [
    "#Fit the model\n",
    "randomforest = randomforestmodel.fit(X_train_scaled, y_train_categorical)"
   ]
  },
  {
   "cell_type": "code",
   "execution_count": 151,
   "metadata": {},
   "outputs": [
    {
     "name": "stdout",
     "output_type": "stream",
     "text": [
      "Training Data Score: 1.0\n",
      "Testing Data Score: 0.9593206951026856\n"
     ]
    }
   ],
   "source": [
    "# Score the model\n",
    "print(f\"Training Data Score: {randomforest.score(X_train_scaled, y_train_categorical)}\")\n",
    "print(f\"Testing Data Score: {randomforest.score(X_test_scaled, y_test_categorical)}\")"
   ]
  },
  {
   "cell_type": "code",
   "execution_count": 152,
   "metadata": {},
   "outputs": [
    {
     "data": {
      "text/plain": [
       "Index(['CLIENTNUM', 'Attrition_Flag', 'Customer_Age', 'Gender',\n",
       "       'Dependent_count', 'Education_Level', 'Marital_Status',\n",
       "       'Income_Category', 'Card_Category', 'Months_on_book',\n",
       "       'Total_Relationship_Count', 'Months_Inactive_12_mon',\n",
       "       'Contacts_Count_12_mon', 'Credit_Limit', 'Total_Revolving_Bal',\n",
       "       'Avg_Open_To_Buy', 'Total_Amt_Chng_Q4_Q1', 'Total_Trans_Amt',\n",
       "       'Total_Trans_Ct', 'Total_Ct_Chng_Q4_Q1', 'Avg_Utilization_Ratio'],\n",
       "      dtype='object')"
      ]
     },
     "execution_count": 152,
     "metadata": {},
     "output_type": "execute_result"
    }
   ],
   "source": [
    "feature_names = bankchurnersencoded.columns\n",
    "feature_names"
   ]
  },
  {
   "cell_type": "code",
   "execution_count": 153,
   "metadata": {},
   "outputs": [],
   "source": [
    "importance = sorted(zip(randomforest.feature_importances_, feature_names), reverse=True)"
   ]
  },
  {
   "cell_type": "code",
   "execution_count": 154,
   "metadata": {},
   "outputs": [
    {
     "data": {
      "text/plain": [
       "[(0.183967507712964, 'Avg_Open_To_Buy'),\n",
       " (0.17290995121066863, 'Total_Amt_Chng_Q4_Q1'),\n",
       " (0.1135061007919371, 'Total_Trans_Amt'),\n",
       " (0.10929944790438206, 'Contacts_Count_12_mon'),\n",
       " (0.06470199941631376, 'Card_Category'),\n",
       " (0.06448713431064271, 'Total_Trans_Ct'),\n",
       " (0.06136984412583043, 'Total_Revolving_Bal'),\n",
       " (0.03540055948110949, 'Months_Inactive_12_mon'),\n",
       " (0.03353874210785664, 'CLIENTNUM'),\n",
       " (0.03160361607100061, 'Credit_Limit'),\n",
       " (0.0249532138020895, 'Total_Relationship_Count'),\n",
       " (0.024810879680735254, 'Income_Category'),\n",
       " (0.023371269592604355, 'Months_on_book'),\n",
       " (0.012638142893938324, 'Customer_Age'),\n",
       " (0.012236709246663492, 'Gender'),\n",
       " (0.010750824365647012, 'Education_Level'),\n",
       " (0.00958467443958011, 'Dependent_count'),\n",
       " (0.007860635906853672, 'Attrition_Flag'),\n",
       " (0.003008746939182921, 'Marital_Status')]"
      ]
     },
     "execution_count": 154,
     "metadata": {},
     "output_type": "execute_result"
    }
   ],
   "source": [
    "importance "
   ]
  },
  {
   "cell_type": "code",
   "execution_count": 155,
   "metadata": {},
   "outputs": [
    {
     "data": {
      "text/html": [
       "<div>\n",
       "<style scoped>\n",
       "    .dataframe tbody tr th:only-of-type {\n",
       "        vertical-align: middle;\n",
       "    }\n",
       "\n",
       "    .dataframe tbody tr th {\n",
       "        vertical-align: top;\n",
       "    }\n",
       "\n",
       "    .dataframe thead th {\n",
       "        text-align: right;\n",
       "    }\n",
       "</style>\n",
       "<table border=\"1\" class=\"dataframe\">\n",
       "  <thead>\n",
       "    <tr style=\"text-align: right;\">\n",
       "      <th></th>\n",
       "      <th>Importance</th>\n",
       "      <th>Features</th>\n",
       "    </tr>\n",
       "  </thead>\n",
       "  <tbody>\n",
       "    <tr>\n",
       "      <th>0</th>\n",
       "      <td>0.183968</td>\n",
       "      <td>Avg_Open_To_Buy</td>\n",
       "    </tr>\n",
       "    <tr>\n",
       "      <th>1</th>\n",
       "      <td>0.172910</td>\n",
       "      <td>Total_Amt_Chng_Q4_Q1</td>\n",
       "    </tr>\n",
       "    <tr>\n",
       "      <th>2</th>\n",
       "      <td>0.113506</td>\n",
       "      <td>Total_Trans_Amt</td>\n",
       "    </tr>\n",
       "    <tr>\n",
       "      <th>3</th>\n",
       "      <td>0.109299</td>\n",
       "      <td>Contacts_Count_12_mon</td>\n",
       "    </tr>\n",
       "    <tr>\n",
       "      <th>4</th>\n",
       "      <td>0.064702</td>\n",
       "      <td>Card_Category</td>\n",
       "    </tr>\n",
       "    <tr>\n",
       "      <th>5</th>\n",
       "      <td>0.064487</td>\n",
       "      <td>Total_Trans_Ct</td>\n",
       "    </tr>\n",
       "    <tr>\n",
       "      <th>6</th>\n",
       "      <td>0.061370</td>\n",
       "      <td>Total_Revolving_Bal</td>\n",
       "    </tr>\n",
       "    <tr>\n",
       "      <th>7</th>\n",
       "      <td>0.035401</td>\n",
       "      <td>Months_Inactive_12_mon</td>\n",
       "    </tr>\n",
       "    <tr>\n",
       "      <th>8</th>\n",
       "      <td>0.033539</td>\n",
       "      <td>CLIENTNUM</td>\n",
       "    </tr>\n",
       "    <tr>\n",
       "      <th>9</th>\n",
       "      <td>0.031604</td>\n",
       "      <td>Credit_Limit</td>\n",
       "    </tr>\n",
       "    <tr>\n",
       "      <th>10</th>\n",
       "      <td>0.024953</td>\n",
       "      <td>Total_Relationship_Count</td>\n",
       "    </tr>\n",
       "    <tr>\n",
       "      <th>11</th>\n",
       "      <td>0.024811</td>\n",
       "      <td>Income_Category</td>\n",
       "    </tr>\n",
       "    <tr>\n",
       "      <th>12</th>\n",
       "      <td>0.023371</td>\n",
       "      <td>Months_on_book</td>\n",
       "    </tr>\n",
       "    <tr>\n",
       "      <th>13</th>\n",
       "      <td>0.012638</td>\n",
       "      <td>Customer_Age</td>\n",
       "    </tr>\n",
       "    <tr>\n",
       "      <th>14</th>\n",
       "      <td>0.012237</td>\n",
       "      <td>Gender</td>\n",
       "    </tr>\n",
       "    <tr>\n",
       "      <th>15</th>\n",
       "      <td>0.010751</td>\n",
       "      <td>Education_Level</td>\n",
       "    </tr>\n",
       "    <tr>\n",
       "      <th>16</th>\n",
       "      <td>0.009585</td>\n",
       "      <td>Dependent_count</td>\n",
       "    </tr>\n",
       "    <tr>\n",
       "      <th>17</th>\n",
       "      <td>0.007861</td>\n",
       "      <td>Attrition_Flag</td>\n",
       "    </tr>\n",
       "    <tr>\n",
       "      <th>18</th>\n",
       "      <td>0.003009</td>\n",
       "      <td>Marital_Status</td>\n",
       "    </tr>\n",
       "  </tbody>\n",
       "</table>\n",
       "</div>"
      ],
      "text/plain": [
       "    Importance                  Features\n",
       "0     0.183968           Avg_Open_To_Buy\n",
       "1     0.172910      Total_Amt_Chng_Q4_Q1\n",
       "2     0.113506           Total_Trans_Amt\n",
       "3     0.109299     Contacts_Count_12_mon\n",
       "4     0.064702             Card_Category\n",
       "5     0.064487            Total_Trans_Ct\n",
       "6     0.061370       Total_Revolving_Bal\n",
       "7     0.035401    Months_Inactive_12_mon\n",
       "8     0.033539                 CLIENTNUM\n",
       "9     0.031604              Credit_Limit\n",
       "10    0.024953  Total_Relationship_Count\n",
       "11    0.024811           Income_Category\n",
       "12    0.023371            Months_on_book\n",
       "13    0.012638              Customer_Age\n",
       "14    0.012237                    Gender\n",
       "15    0.010751           Education_Level\n",
       "16    0.009585           Dependent_count\n",
       "17    0.007861            Attrition_Flag\n",
       "18    0.003009            Marital_Status"
      ]
     },
     "execution_count": 155,
     "metadata": {},
     "output_type": "execute_result"
    }
   ],
   "source": [
    "importanceDF = pd.DataFrame(importance, columns=['Importance', 'Features'])\n",
    "importanceDF"
   ]
  },
  {
   "cell_type": "code",
   "execution_count": null,
   "metadata": {},
   "outputs": [],
   "source": [
    "importanceDF= importanceDF.set_index(\"Features\")\n",
    "importanceDF"
   ]
  },
  {
   "cell_type": "code",
   "execution_count": 159,
   "metadata": {},
   "outputs": [
    {
     "data": {
      "text/plain": [
       "<matplotlib.axes._subplots.AxesSubplot at 0x7ff886c302e8>"
      ]
     },
     "execution_count": 159,
     "metadata": {},
     "output_type": "execute_result"
    },
    {
     "data": {
      "image/png": "[encoded data removed]",
      "text/plain": [
       "<Figure size 1440x504 with 1 Axes>"
      ]
     },
     "metadata": {
      "needs_background": "light"
     },
     "output_type": "display_data"
    }
   ],
   "source": [
    "importanceDF.plot(x ='Features', y='Importance', kind = 'bar', figsize=(20, 7))"
   ]
  },
  {
   "cell_type": "markdown",
   "metadata": {},
   "source": [
    "## Prediction"
   ]
  },
  {
   "cell_type": "code",
   "execution_count": null,
   "metadata": {},
   "outputs": [],
   "source": [
    "predictions_forest = randomforest.predict(X_test_scaled)"
   ]
  },
  {
   "cell_type": "code",
   "execution_count": null,
   "metadata": {},
   "outputs": [],
   "source": [
    "predictions_forest_decoded = np.argmax(predictions_forest, axis=1)\n",
    "predictions_forest_decoded"
   ]
  },
  {
   "cell_type": "code",
   "execution_count": null,
   "metadata": {},
   "outputs": [],
   "source": [
    "predictions_forest_labels = label_encoder.inverse_transform(predictions_forest_decoded)\n",
    "predictions_forest_labels[:10]"
   ]
  },
  {
   "cell_type": "markdown",
   "metadata": {},
   "source": [
    "## Create comparison data frame"
   ]
  },
  {
   "cell_type": "code",
   "execution_count": null,
   "metadata": {},
   "outputs": [],
   "source": [
    "comparison_forest = pd.DataFrame({'Prediction Class': predictions_forest_decoded,\n",
    "                                'Prediction Label':predictions_forest_labels,\n",
    "                                'Actual Label':y_test})\n",
    "comparison_forest[:50]"
   ]
  },
  {
   "cell_type": "code",
   "execution_count": null,
   "metadata": {},
   "outputs": [],
   "source": [
    "#Find all Predicted Attrited Customers\n",
    "attrited_only_forest = comparison_forest.loc[comparison_forest[\"Prediction Label\"] == \"Attrited Customer\", :]\n",
    "print(f\"In the Test data there is {len(attrited_only_forest)} attrited customers out of {len(comparison_forest)} records.\")\n",
    "attrited_only_forest[:10]"
   ]
  },
  {
   "cell_type": "code",
   "execution_count": null,
   "metadata": {},
   "outputs": [],
   "source": [
    "#From predicted Attrited customers, find all actual labels equal to Existing Customer \n",
    "incorrect_attrited_forest = attrited_only_forest.loc[attrited_only_forest[\"Actual Label\"] == \"Existing Customer\", :]\n",
    "print(f\"There are {len(incorrect_attrited_forest)} incorrectly predicted attrited customers out of {len(attrited_only_forest)} predicted attrities\")\n",
    "Percent_correct_forest = str(round(((len(attrited_only_forest)-len(incorrect_attrited_forest))/len(attrited_only_forest))*100, 2))\n",
    "print(f\"This is an actual accuracy of {Percent_correct_forest}%.\")\n",
    "incorrect_attrited_forest"
   ]
  },
  {
   "cell_type": "markdown",
   "metadata": {},
   "source": [
    "# Save the model - Random Forest\n",
    "https://mljar.com/blog/save-load-random-forest/"
   ]
  },
  {
   "cell_type": "code",
   "execution_count": null,
   "metadata": {},
   "outputs": [],
   "source": [
    "# save your model by updating \"your_name\" with your name\n",
    "# and \"your_model\" with your model variable\n",
    "# be sure to turn this in to BCS\n",
    "# if joblib fails to import, try running the command to install in terminal/git-bash\n",
    "import joblib\n",
    "filename = 'randomforest_model_trained.sav'\n",
    "joblib.dump(randomforest, filename)"
   ]
  },
  {
   "cell_type": "code",
   "execution_count": null,
   "metadata": {},
   "outputs": [],
   "source": [
    "#Save using pickle as joblib nbot importing in app.py\n",
    "pickle.dump(randomforest, open(filename, 'wb'))"
   ]
  },
  {
   "cell_type": "code",
   "execution_count": null,
   "metadata": {},
   "outputs": [],
   "source": []
  }
 ],
 "metadata": {
  "kernelspec": {
   "display_name": "Python [conda env:PythonData] *",
   "language": "python",
   "name": "conda-env-PythonData-py"
  },
  "language_info": {
   "codemirror_mode": {
    "name": "ipython",
    "version": 3
   },
   "file_extension": ".py",
   "mimetype": "text/x-python",
   "name": "python",
   "nbconvert_exporter": "python",
   "pygments_lexer": "ipython3",
   "version": "3.6.10"
  }
 },
 "nbformat": 4,
 "nbformat_minor": 4
}
